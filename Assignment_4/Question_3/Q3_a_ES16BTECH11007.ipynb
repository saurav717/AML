{
 "cells": [
  {
   "cell_type": "code",
   "execution_count": 1,
   "metadata": {},
   "outputs": [],
   "source": [
    "import numpy as np\n",
    "import pandas as pd\n",
    "import matplotlib.pyplot as plt"
   ]
  },
  {
   "cell_type": "markdown",
   "metadata": {},
   "source": [
    "## Conclusions regarding the problem as a whole"
   ]
  },
  {
   "cell_type": "markdown",
   "metadata": {},
   "source": [
    "3c) For K-Means, the clustering depends on the initialization of the centroids and we should specify the number of  centroids \n",
    "\n",
    "- whereas for DBSCAN, we dont have to initialise the number of clusters, it clusters the data depending on the density of the data. \n",
    "\n",
    "- If density of data is more at some area, DBSCAN will cluster that whole data into a single class \n",
    "\n",
    "3d) For this problem, there are two clusters which are very near to each other and the density is more individually in those clusters\n",
    "\n",
    "- When we applied K-Means on the dataset, with K = 3, since the two clusters are near to each other, those two clusters fell into the same category \n",
    "\n",
    "- whereas in DBSCAN, those two clusters were differentiated since indivudually the densities is more in those clusters and those are identified as two independent clusters.\n",
    "\n",
    "\n",
    "\n"
   ]
  },
  {
   "cell_type": "markdown",
   "metadata": {},
   "source": [
    "# Data Scanning"
   ]
  },
  {
   "cell_type": "code",
   "execution_count": 90,
   "metadata": {
    "scrolled": true
   },
   "outputs": [
    {
     "data": {
      "text/html": [
       "<div>\n",
       "<style scoped>\n",
       "    .dataframe tbody tr th:only-of-type {\n",
       "        vertical-align: middle;\n",
       "    }\n",
       "\n",
       "    .dataframe tbody tr th {\n",
       "        vertical-align: top;\n",
       "    }\n",
       "\n",
       "    .dataframe thead th {\n",
       "        text-align: right;\n",
       "    }\n",
       "</style>\n",
       "<table border=\"1\" class=\"dataframe\">\n",
       "  <thead>\n",
       "    <tr style=\"text-align: right;\">\n",
       "      <th></th>\n",
       "      <th>0</th>\n",
       "      <th>1</th>\n",
       "    </tr>\n",
       "  </thead>\n",
       "  <tbody>\n",
       "    <tr>\n",
       "      <th>0</th>\n",
       "      <td>9.359071</td>\n",
       "      <td>0.337273</td>\n",
       "    </tr>\n",
       "    <tr>\n",
       "      <th>1</th>\n",
       "      <td>-1.136104</td>\n",
       "      <td>4.229264</td>\n",
       "    </tr>\n",
       "    <tr>\n",
       "      <th>2</th>\n",
       "      <td>-1.818084</td>\n",
       "      <td>4.651985</td>\n",
       "    </tr>\n",
       "    <tr>\n",
       "      <th>3</th>\n",
       "      <td>-8.952252</td>\n",
       "      <td>5.983762</td>\n",
       "    </tr>\n",
       "    <tr>\n",
       "      <th>4</th>\n",
       "      <td>-6.636040</td>\n",
       "      <td>5.606801</td>\n",
       "    </tr>\n",
       "  </tbody>\n",
       "</table>\n",
       "</div>"
      ],
      "text/plain": [
       "          0         1\n",
       "0  9.359071  0.337273\n",
       "1 -1.136104  4.229264\n",
       "2 -1.818084  4.651985\n",
       "3 -8.952252  5.983762\n",
       "4 -6.636040  5.606801"
      ]
     },
     "execution_count": 90,
     "metadata": {},
     "output_type": "execute_result"
    }
   ],
   "source": [
    "data = pd.read_csv('dataset2.txt', sep = \" \" ,header = None)\n",
    "train_data = data.values\n",
    "data.head()"
   ]
  },
  {
   "cell_type": "code",
   "execution_count": 3,
   "metadata": {},
   "outputs": [
    {
     "data": {
      "text/html": [
       "<div>\n",
       "<style scoped>\n",
       "    .dataframe tbody tr th:only-of-type {\n",
       "        vertical-align: middle;\n",
       "    }\n",
       "\n",
       "    .dataframe tbody tr th {\n",
       "        vertical-align: top;\n",
       "    }\n",
       "\n",
       "    .dataframe thead th {\n",
       "        text-align: right;\n",
       "    }\n",
       "</style>\n",
       "<table border=\"1\" class=\"dataframe\">\n",
       "  <thead>\n",
       "    <tr style=\"text-align: right;\">\n",
       "      <th></th>\n",
       "      <th>0</th>\n",
       "      <th>1</th>\n",
       "    </tr>\n",
       "  </thead>\n",
       "  <tbody>\n",
       "    <tr>\n",
       "      <th>0</th>\n",
       "      <td>1.489034</td>\n",
       "      <td>-0.372265</td>\n",
       "    </tr>\n",
       "    <tr>\n",
       "      <th>1</th>\n",
       "      <td>-0.993560</td>\n",
       "      <td>0.113308</td>\n",
       "    </tr>\n",
       "    <tr>\n",
       "      <th>2</th>\n",
       "      <td>1.375386</td>\n",
       "      <td>-0.426868</td>\n",
       "    </tr>\n",
       "    <tr>\n",
       "      <th>3</th>\n",
       "      <td>-0.856408</td>\n",
       "      <td>0.516299</td>\n",
       "    </tr>\n",
       "    <tr>\n",
       "      <th>4</th>\n",
       "      <td>0.446398</td>\n",
       "      <td>-0.332782</td>\n",
       "    </tr>\n",
       "  </tbody>\n",
       "</table>\n",
       "</div>"
      ],
      "text/plain": [
       "          0         1\n",
       "0  1.489034 -0.372265\n",
       "1 -0.993560  0.113308\n",
       "2  1.375386 -0.426868\n",
       "3 -0.856408  0.516299\n",
       "4  0.446398 -0.332782"
      ]
     },
     "execution_count": 3,
     "metadata": {},
     "output_type": "execute_result"
    }
   ],
   "source": [
    "data2 = pd.read_csv('dataset1.txt', sep = \" \", header = None)\n",
    "train_data2 = data2.values\n",
    "data2.head()"
   ]
  },
  {
   "cell_type": "markdown",
   "metadata": {},
   "source": [
    "# Data Processing"
   ]
  },
  {
   "cell_type": "code",
   "execution_count": 4,
   "metadata": {},
   "outputs": [],
   "source": [
    "def distance(P1, P2):\n",
    "    return np.sqrt((P2[0] - P1[0])**2 + (P2[1] - P1[1])**2)\n",
    "    "
   ]
  },
  {
   "cell_type": "code",
   "execution_count": 5,
   "metadata": {},
   "outputs": [],
   "source": [
    "def expand_cluster(pts, distances, epsilon, N, visited, classes, noise_pts, count ):\n",
    "\n",
    "    cluster_pts = np.array([])\n",
    "    for i in (pts):\n",
    "        #print i\n",
    "        DDR_points = np.where(distances[i] < epsilon)\n",
    "        visited[i] = 1\n",
    "        classes[i] = count\n",
    "        if(len(DDR_points[0]) >= N):\n",
    "            cluster_pts = np.append(cluster_pts, DDR_points[0])\n",
    "        else  :\n",
    "            visited[i] = 2\n",
    "\n",
    "    cluster_pts = np.unique(cluster_pts[visited[cluster_pts.astype(int)] == 0].astype(int))\n",
    "    \n",
    "    if len(cluster_pts) > 0:\n",
    "        expand_cluster(cluster_pts, distances, epsilon, N, visited, classes, noise_pts, count)\n",
    "    "
   ]
  },
  {
   "cell_type": "code",
   "execution_count": 6,
   "metadata": {
    "scrolled": true
   },
   "outputs": [
    {
     "name": "stdout",
     "output_type": "stream",
     "text": [
      "[[  0.          11.1935829   11.98104885 ... 130.90720021 136.63257745\n",
      "  136.07691356]\n",
      " [ 11.1935829    0.           0.80236478 ... 135.24590966 141.19006911\n",
      "  140.4133135 ]\n",
      " [ 11.98104885   0.80236478   0.         ... 135.43633358 141.39542863\n",
      "  140.60237092]\n",
      " ...\n",
      " [130.90720021 135.24590966 135.43633358 ...   0.           6.51746407\n",
      "    5.1723921 ]\n",
      " [136.63257745 141.19006911 141.39542863 ...   6.51746407   0.\n",
      "    3.05586732]\n",
      " [136.07691356 140.4133135  140.60237092 ...   5.1723921    3.05586732\n",
      "    0.        ]]\n"
     ]
    }
   ],
   "source": [
    "distances = []\n",
    "\n",
    "for i in range(0, len(train_data)):\n",
    "     distances.append(distance(train_data[i], data))\n",
    "\n",
    "distances = np.array(distances)\n",
    "print distances"
   ]
  },
  {
   "cell_type": "code",
   "execution_count": 7,
   "metadata": {},
   "outputs": [
    {
     "name": "stdout",
     "output_type": "stream",
     "text": [
      "[[0.         2.529635   0.12608471 ... 0.51154206 2.14344491 1.31724615]\n",
      " [2.529635   0.         2.4297524  ... 2.85291372 1.1999322  1.80814713]\n",
      " [0.12608471 2.4297524  0.         ... 0.63241533 2.09321679 1.30094928]\n",
      " ...\n",
      " [0.51154206 2.85291372 0.63241533 ... 0.         2.26008512 1.34267171]\n",
      " [2.14344491 1.1999322  2.09321679 ... 2.26008512 0.         0.93374039]\n",
      " [1.31724615 1.80814713 1.30094928 ... 1.34267171 0.93374039 0.        ]]\n"
     ]
    }
   ],
   "source": [
    "distances2 = []\n",
    "\n",
    "for i in range(0, len(train_data2)):\n",
    "     distances2.append(distance(train_data2[i], data2))\n",
    "\n",
    "distances2 = np.array(distances2)\n",
    "print distances2"
   ]
  },
  {
   "cell_type": "code",
   "execution_count": 82,
   "metadata": {},
   "outputs": [],
   "source": [
    "def DBSCAN(Inputs):\n",
    "    \n",
    "    epsilon = Inputs['epsilon']\n",
    "    N = Inputs['N']\n",
    "    distances = Inputs['distances']\n",
    "\n",
    "    for i in range(len(visited)):\n",
    "        if Inputs['visited'][i] > 0:\n",
    "            continue\n",
    "        Inputs['visited'][i] = 1\n",
    "        DDR_points = np.where(distances[i] < epsilon)\n",
    "        if len(DDR_points[0]) < N :\n",
    "            Inputs['visited'][i] = 2\n",
    "            continue\n",
    "        expand_cluster(DDR_points[0], distances, epsilon, N, visited, Inputs['classes'], Inputs['noise_pts'], Inputs['count'] )\n",
    "        Inputs['count']+=1\n",
    "    "
   ]
  },
  {
   "cell_type": "markdown",
   "metadata": {},
   "source": [
    "- DDR - Directly Density Reachable points\n",
    "- DR  - Density Reachable points"
   ]
  },
  {
   "cell_type": "markdown",
   "metadata": {},
   "source": [
    "# Dataset - 2\n"
   ]
  },
  {
   "cell_type": "markdown",
   "metadata": {},
   "source": [
    "## DBSCAN"
   ]
  },
  {
   "cell_type": "code",
   "execution_count": 88,
   "metadata": {},
   "outputs": [
    {
     "name": "stdout",
     "output_type": "stream",
     "text": [
      "[]\n"
     ]
    },
    {
     "data": {
      "image/png": "[encoded data removed]",
      "text/plain": [
       "<matplotlib.figure.Figure at 0x7f042a4881d0>"
      ]
     },
     "metadata": {},
     "output_type": "display_data"
    }
   ],
   "source": [
    "visited = np.zeros(len(train_data))\n",
    "classes = np.zeros(len(train_data))\n",
    "noise_pts = []\n",
    "\n",
    "Inputs = {\n",
    "    \n",
    "     'classes'   : classes\n",
    "    ,'visited'   : visited\n",
    "    ,'count'     : 0\n",
    "    ,'epsilon'   : 1.5\n",
    "    ,'N'         : 40\n",
    "    ,'noise_pts' : noise_pts\n",
    "    ,'distances' : distances\n",
    "}\n",
    "\n",
    "DBSCAN(Inputs)\n",
    "\n",
    "for i in range(0, Inputs['count']):\n",
    "    plt.plot(data[0][classes == i], data[1][classes == i], 'o')\n",
    "    \n",
    "print Inputs['noise_pts']\n",
    "plt.show()"
   ]
  },
  {
   "cell_type": "markdown",
   "metadata": {},
   "source": [
    "## KMeans\n"
   ]
  },
  {
   "cell_type": "code",
   "execution_count": 86,
   "metadata": {
    "scrolled": true
   },
   "outputs": [
    {
     "data": {
      "image/png": "[encoded data removed]",
      "text/plain": [
       "<matplotlib.figure.Figure at 0x7f041955cf50>"
      ]
     },
     "metadata": {},
     "output_type": "display_data"
    }
   ],
   "source": [
    "from sklearn.cluster import KMeans\n",
    "\n",
    "kmeans = KMeans(n_clusters = 3, random_state=0).fit(data)\n",
    "outputs = kmeans.labels_\n",
    "\n",
    "for i in range(0, 3 ):\n",
    "    plt.plot(data[0][outputs == i], data[1][outputs == i], 'o')\n",
    "plt.show()"
   ]
  },
  {
   "cell_type": "markdown",
   "metadata": {},
   "source": [
    "# Dataset - 1"
   ]
  },
  {
   "cell_type": "markdown",
   "metadata": {},
   "source": [
    "## DBSCAN"
   ]
  },
  {
   "cell_type": "code",
   "execution_count": 84,
   "metadata": {},
   "outputs": [
    {
     "data": {
      "image/png": "[encoded data removed]",
      "text/plain": [
       "<matplotlib.figure.Figure at 0x7f0419617490>"
      ]
     },
     "metadata": {},
     "output_type": "display_data"
    }
   ],
   "source": [
    "visited = np.zeros(len(train_data))\n",
    "classes = np.zeros(len(train_data))\n",
    "noise_pts = []\n",
    "\n",
    "Inputs = {\n",
    "    \n",
    "     'classes'   : classes\n",
    "    ,'visited'   : visited\n",
    "    ,'count'     : 0\n",
    "    ,'epsilon'   : 0.2\n",
    "    ,'N'         : 15\n",
    "    ,'noise_pts' : noise_pts\n",
    "    ,'distances' : distances2\n",
    "}\n",
    "\n",
    "DBSCAN(Inputs)\n",
    "\n",
    "for i in range(0, Inputs['count']):\n",
    "    plt.plot(data2[0][classes == i], data2[1][classes == i], 'o')\n",
    "plt.show()"
   ]
  },
  {
   "cell_type": "markdown",
   "metadata": {},
   "source": [
    "## KMeans"
   ]
  },
  {
   "cell_type": "code",
   "execution_count": 31,
   "metadata": {},
   "outputs": [
    {
     "data": {
      "image/png": "[encoded data removed]",
      "text/plain": [
       "<matplotlib.figure.Figure at 0x7f0419c65a10>"
      ]
     },
     "metadata": {},
     "output_type": "display_data"
    }
   ],
   "source": [
    "from sklearn.cluster import KMeans\n",
    "\n",
    "kmeans = KMeans(n_clusters = 2, random_state=1).fit(data2)\n",
    "outputs = kmeans.labels_\n",
    "\n",
    "\n",
    "for i in range(0, 4 ):\n",
    "    plt.plot(data2[0][outputs == i], data2[1][outputs == i], 'o')\n",
    "plt.show()"
   ]
  }
 ],
 "metadata": {
  "kernelspec": {
   "display_name": "Python 2",
   "language": "python",
   "name": "python2"
  },
  "language_info": {
   "codemirror_mode": {
    "name": "ipython",
    "version": 2
   },
   "file_extension": ".py",
   "mimetype": "text/x-python",
   "name": "python",
   "nbconvert_exporter": "python",
   "pygments_lexer": "ipython2",
   "version": "2.7.12"
  }
 },
 "nbformat": 4,
 "nbformat_minor": 2
}

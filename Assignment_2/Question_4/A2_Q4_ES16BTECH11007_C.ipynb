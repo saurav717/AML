{
 "cells": [
  {
   "cell_type": "code",
   "execution_count": 20,
   "metadata": {},
   "outputs": [],
   "source": [
    "import numpy as np\n",
    "import pandas as pd\n",
    "import matplotlib.pyplot as plt"
   ]
  },
  {
   "cell_type": "markdown",
   "metadata": {},
   "source": [
    "### Importing training dataset using pandas and converting the datagram to matrix"
   ]
  },
  {
   "cell_type": "code",
   "execution_count": 21,
   "metadata": {},
   "outputs": [],
   "source": [
    "dataset = pd.read_fwf('features_train.txt',sep = \" \" , header = None)\n",
    "dataset = dataset.values"
   ]
  },
  {
   "cell_type": "markdown",
   "metadata": {},
   "source": [
    "### importing testing dataset using pandas and converting the datagram to matrix"
   ]
  },
  {
   "cell_type": "code",
   "execution_count": 22,
   "metadata": {},
   "outputs": [],
   "source": [
    "testing_data = pd.read_fwf('features_test.txt', sep = \" \", header = None)\n",
    "testing_data = testing_data.values"
   ]
  },
  {
   "cell_type": "code",
   "execution_count": 23,
   "metadata": {},
   "outputs": [],
   "source": [
    "label1 = 1\n",
    "label2 = 5"
   ]
  },
  {
   "cell_type": "markdown",
   "metadata": {},
   "source": [
    "### Training dataset and labels"
   ]
  },
  {
   "cell_type": "code",
   "execution_count": 24,
   "metadata": {},
   "outputs": [],
   "source": [
    "dataset_5 = dataset[dataset.T[0]==label1]\n",
    "dataset_0 = dataset[dataset.T[0]==label2]\n",
    "\n",
    "train_data = np.vstack((dataset_5, dataset_0))\n",
    "np.random.shuffle(train_data)\n",
    "\n",
    "train_labels = train_data.T[0]\n",
    "train_data = train_data.T[1:3].T"
   ]
  },
  {
   "cell_type": "markdown",
   "metadata": {},
   "source": [
    "### Testing dataset and labels"
   ]
  },
  {
   "cell_type": "code",
   "execution_count": 25,
   "metadata": {},
   "outputs": [],
   "source": [
    "test_dataset_5 = testing_data[testing_data.T[0]==label1]\n",
    "test_dataset_0 = testing_data[testing_data.T[0]==label2]\n",
    "\n",
    "test_data = np.vstack((test_dataset_5, test_dataset_0))\n",
    "np.random.shuffle(test_data)\n",
    "\n",
    "test_labels = test_data.T[0]\n",
    "test_data = test_data.T[1:3].T"
   ]
  },
  {
   "cell_type": "markdown",
   "metadata": {},
   "source": [
    "## SVM "
   ]
  },
  {
   "cell_type": "code",
   "execution_count": 26,
   "metadata": {},
   "outputs": [],
   "source": [
    "from sklearn.svm import SVC\n",
    "from sklearn.datasets import make_classification"
   ]
  },
  {
   "cell_type": "markdown",
   "metadata": {},
   "source": [
    "## Training the SVM"
   ]
  },
  {
   "cell_type": "markdown",
   "metadata": {},
   "source": [
    "### Problem 1: \n",
    "### The data has been shuffled once and the SVM classifies a point only between two classes"
   ]
  },
  {
   "cell_type": "code",
   "execution_count": 29,
   "metadata": {},
   "outputs": [],
   "source": [
    "error = [1e-0, 1e-2, 1e-3, 1e-4] \n",
    "deg = [1,2,3,4,5,6,7,8,9,10,11]\n",
    "scores = np.empty(len(deg))\n",
    "train_scores = np.empty(len(deg))\n",
    "support_vector = np.empty(len(deg))"
   ]
  },
  {
   "cell_type": "markdown",
   "metadata": {},
   "source": [
    "##  d) Bias = 1.0\n",
    "- Ans True"
   ]
  },
  {
   "cell_type": "code",
   "execution_count": 30,
   "metadata": {},
   "outputs": [],
   "source": [
    "\n",
    "for i in range(0, len(deg)):\n",
    "    clf = SVC(kernel = 'poly', degree = deg[i], C=1.0, random_state = 0, tol = 1e-3)\n",
    "    clf.fit( train_data , train_labels )\n",
    "    scores[i] = clf.score(test_data, test_labels)\n",
    "    train_scores[i] = clf.score(train_data, train_labels)\n",
    "    support_vector[i] = len(clf.support_vectors_)\n",
    "    "
   ]
  },
  {
   "cell_type": "code",
   "execution_count": 31,
   "metadata": {},
   "outputs": [
    {
     "name": "stdout",
     "output_type": "stream",
     "text": [
      "\n",
      "highest accuracy =  0.9882075471698113\n",
      "\n",
      "degree at highest test accuracy =  7\n",
      "\n",
      "degree at lowest test accuracy = 1\n",
      "\n",
      "degree at highest train accuracy =  9\n",
      "\n",
      "degree at lowest train accuracy = 7\n"
     ]
    },
    {
     "data": {
      "text/plain": [
       "[<matplotlib.lines.Line2D at 0x7fe6cae77d10>]"
      ]
     },
     "execution_count": 31,
     "metadata": {},
     "output_type": "execute_result"
    },
    {
     "data": {
      "image/png": "[encoded data removed]",
      "text/plain": [
       "<matplotlib.figure.Figure at 0x7fe6cb04b8d0>"
      ]
     },
     "metadata": {},
     "output_type": "display_data"
    }
   ],
   "source": [
    "# print scores\n",
    "print\n",
    "print \"highest accuracy = \", scores[np.argmax(scores)]\n",
    "print\n",
    "print \"degree at highest test accuracy = \", deg[np.argmax(scores)]\n",
    "print\n",
    "print \"degree at lowest test accuracy =\", deg[np.argmin(scores)]\n",
    "print\n",
    "print \"degree at highest train accuracy = \", deg[np.argmax(train_scores)]\n",
    "print\n",
    "print \"degree at lowest train accuracy =\", deg[np.argmin(train_scores)]\n",
    "\n",
    "x = np.linspace(0,3,4)\n",
    "plt.title(\"degree v accuracy\")\n",
    "plt.xlabel('degree')\n",
    "plt.ylabel('accuracy')\n",
    "plt.plot(deg,scores)\n",
    "\n"
   ]
  },
  {
   "cell_type": "markdown",
   "metadata": {},
   "source": [
    "## c) Tolerance = 0.01\n",
    "- Ans False"
   ]
  },
  {
   "cell_type": "code",
   "execution_count": 32,
   "metadata": {},
   "outputs": [],
   "source": [
    "for i in range(0, len(deg)):\n",
    "    clf = SVC(kernel = 'poly', degree = deg[i], C=0.01, random_state = 0, tol = 1e-3)\n",
    "    clf.fit( train_data , train_labels )\n",
    "    scores[i] = clf.score(test_data, test_labels)\n",
    "    train_scores[i] = clf.score(train_data, train_labels)\n",
    "    support_vector[i] = len(clf.support_vectors_)\n",
    "    "
   ]
  },
  {
   "cell_type": "code",
   "execution_count": 39,
   "metadata": {
    "scrolled": true
   },
   "outputs": [
    {
     "name": "stdout",
     "output_type": "stream",
     "text": [
      "\n",
      "highest accuracy =  0.9858490566037735\n",
      "\n",
      "degree at highest test accuracy =  8\n",
      "\n",
      "degree at lowest test accuracy = 1\n",
      "\n",
      "degree at highest train accuracy =  11\n",
      "\n",
      "degree at lowest train accuracy = 1\n"
     ]
    },
    {
     "data": {
      "text/plain": [
       "[<matplotlib.lines.Line2D at 0x7fe6cad17890>]"
      ]
     },
     "execution_count": 39,
     "metadata": {},
     "output_type": "execute_result"
    },
    {
     "data": {
      "image/png": "[encoded data removed]",
      "text/plain": [
       "<matplotlib.figure.Figure at 0x7fe6caf1e2d0>"
      ]
     },
     "metadata": {},
     "output_type": "display_data"
    }
   ],
   "source": [
    "# print scores\n",
    "print\n",
    "print \"highest accuracy = \", scores[np.argmax(scores)]\n",
    "print\n",
    "print \"degree at highest test accuracy = \", deg[np.argmax(scores)]\n",
    "print\n",
    "print \"degree at lowest test accuracy =\", deg[np.argmin(scores)]\n",
    "print\n",
    "print \"degree at highest train accuracy = \", deg[np.argmax(train_scores)]\n",
    "print\n",
    "print \"degree at lowest train accuracy =\", deg[np.argmin(train_scores)]\n",
    "\n",
    "x = np.linspace(0,3,4)\n",
    "plt.title(\"degree v accuracy\")\n",
    "plt.xlabel('degree')\n",
    "plt.ylabel('accuracy')\n",
    "plt.plot(deg,train_scores)\n"
   ]
  },
  {
   "cell_type": "markdown",
   "metadata": {},
   "source": [
    "## b) Tolerance = 0.001\n",
    "- Ans True"
   ]
  },
  {
   "cell_type": "code",
   "execution_count": 34,
   "metadata": {},
   "outputs": [],
   "source": [
    "for i in range(0, len(deg)):\n",
    "    clf = SVC(kernel = 'poly', degree = deg[i], C=0.001, random_state = 0, tol = 1e-3)\n",
    "    clf.fit( train_data , train_labels )\n",
    "    scores[i] = clf.score(test_data, test_labels)\n",
    "    train_scores[i] = clf.score(train_data, train_labels)\n",
    "    support_vector[i] = len(clf.support_vectors_)"
   ]
  },
  {
   "cell_type": "code",
   "execution_count": 35,
   "metadata": {},
   "outputs": [
    {
     "name": "stdout",
     "output_type": "stream",
     "text": [
      "\n",
      "highest accuracy =  0.9834905660377359\n",
      "\n",
      "degree at highest test accuracy =  4\n",
      "\n",
      "degree at lowest test accuracy = 1\n",
      "\n",
      "degree at highest train accuracy =  3\n",
      "\n",
      "degree at lowest train accuracy = 1\n",
      "\n",
      "minimum number of support vectors at deg =  5\n"
     ]
    },
    {
     "data": {
      "text/plain": [
       "[<matplotlib.lines.Line2D at 0x7fe6cae34210>]"
      ]
     },
     "execution_count": 35,
     "metadata": {},
     "output_type": "execute_result"
    },
    {
     "data": {
      "image/png": "[encoded data removed]",
      "text/plain": [
       "<matplotlib.figure.Figure at 0x7fe6cb2540d0>"
      ]
     },
     "metadata": {},
     "output_type": "display_data"
    }
   ],
   "source": [
    "# print scores\n",
    "print\n",
    "print \"highest accuracy = \", scores[np.argmax(scores)]\n",
    "print\n",
    "print \"degree at highest test accuracy = \", deg[np.argmax(scores)]\n",
    "print\n",
    "print \"degree at lowest test accuracy =\", deg[np.argmin(scores)]\n",
    "print\n",
    "print \"degree at highest train accuracy = \", deg[np.argmax(train_scores)]\n",
    "print\n",
    "print \"degree at lowest train accuracy =\", deg[np.argmin(train_scores)]\n",
    "print \n",
    "print \"minimum number of support vectors at deg = \", deg[np.argmin(support_vector)]\n",
    "\n",
    "x = np.linspace(0,3,4)\n",
    "plt.title(\"degree v accuracy\")\n",
    "plt.xlabel('degree')\n",
    "plt.ylabel('accuracy')\n",
    "plt.plot(deg,scores)\n"
   ]
  },
  {
   "cell_type": "markdown",
   "metadata": {},
   "source": [
    "## a) Tolerance = 0.0001                            \n",
    "- Answer - False"
   ]
  },
  {
   "cell_type": "code",
   "execution_count": 36,
   "metadata": {},
   "outputs": [],
   "source": [
    "for i in range(0, len(deg)):\n",
    "    clf = SVC(kernel = 'poly', degree = deg[i], C=0.0001, gamma = 1, random_state = 0, tol = 1e-3)\n",
    "    clf.fit( train_data , train_labels )\n",
    "    scores[i] = clf.score(test_data, test_labels)\n",
    "    train_scores[i] = clf.score(train_data, train_labels)\n",
    "    support_vector[i] = len(clf.support_vectors_)"
   ]
  },
  {
   "cell_type": "code",
   "execution_count": 37,
   "metadata": {},
   "outputs": [
    {
     "name": "stdout",
     "output_type": "stream",
     "text": [
      "\n",
      "highest accuracy =  0.9858490566037735\n",
      "\n",
      "degree at highest test accuracy =  8\n",
      "\n",
      "degree at lowest test accuracy = 1\n",
      "\n",
      "degree at highest train accuracy =  11\n",
      "\n",
      "degree at lowest train accuracy = 1\n"
     ]
    },
    {
     "data": {
      "text/plain": [
       "[<matplotlib.lines.Line2D at 0x7fe6cad723d0>]"
      ]
     },
     "execution_count": 37,
     "metadata": {},
     "output_type": "execute_result"
    },
    {
     "data": {
      "image/png": "[encoded data removed]",
      "text/plain": [
       "<matplotlib.figure.Figure at 0x7fe6cb0cd890>"
      ]
     },
     "metadata": {},
     "output_type": "display_data"
    }
   ],
   "source": [
    "# print scores\n",
    "print\n",
    "print \"highest accuracy = \", scores[np.argmax(scores)]\n",
    "print\n",
    "print \"degree at highest test accuracy = \", deg[np.argmax(scores)]\n",
    "print\n",
    "print \"degree at lowest test accuracy =\", deg[np.argmin(scores)]\n",
    "print\n",
    "print \"degree at highest train accuracy = \", deg[np.argmax(train_scores)]\n",
    "print\n",
    "print \"degree at lowest train accuracy =\", deg[np.argmin(train_scores)]\n",
    "\n",
    "x = np.linspace(0,3,4)\n",
    "plt.title(\"degree v accuracy\")\n",
    "plt.xlabel('degree')\n",
    "plt.ylabel('accuracy')\n",
    "plt.plot(deg,scores)"
   ]
  },
  {
   "cell_type": "code",
   "execution_count": 38,
   "metadata": {},
   "outputs": [
    {
     "name": "stdout",
     "output_type": "stream",
     "text": [
      "[1112.  244.   66.   32.   26.   28.   29.   30.   26.   21.   18.]\n"
     ]
    }
   ],
   "source": [
    "print support_vector"
   ]
  },
  {
   "cell_type": "markdown",
   "metadata": {},
   "source": [
    "# Solutions\n",
    "\n",
    "# 1. False\n",
    "\n",
    "# 2. True\n",
    "\n",
    "# 3. False\n",
    "\n",
    "# 4. True"
   ]
  }
 ],
 "metadata": {
  "kernelspec": {
   "display_name": "Python 2",
   "language": "python",
   "name": "python2"
  },
  "language_info": {
   "codemirror_mode": {
    "name": "ipython",
    "version": 2
   },
   "file_extension": ".py",
   "mimetype": "text/x-python",
   "name": "python",
   "nbconvert_exporter": "python",
   "pygments_lexer": "ipython2",
   "version": "2.7.12"
  }
 },
 "nbformat": 4,
 "nbformat_minor": 2
}

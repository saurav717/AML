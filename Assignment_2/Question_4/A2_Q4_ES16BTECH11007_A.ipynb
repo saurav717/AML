{
 "cells": [
  {
   "cell_type": "code",
   "execution_count": 49,
   "metadata": {},
   "outputs": [],
   "source": [
    "import numpy as np\n",
    "import pandas as pd"
   ]
  },
  {
   "cell_type": "markdown",
   "metadata": {},
   "source": [
    "## Results\n",
    "\n",
    "Since the data is only a binary classification, it maybe is almost linearly seperable maybe with a few outliers. \n",
    "\n",
    "    Method used = Soft Margin SVM\n",
    "    Library = svm.SVC\n",
    "    Kernel used = Linear\n",
    "\n",
    "    Accuracy = 0.9787735849056604\n",
    "    Number of Support Vectors = 28\n",
    "    Support Vectors from class 1 = 14\n",
    "    Support Vectors from class 2 = 14\n",
    "    \n",
    "Since the SVM tries to maximize the margin between two almost linearly seperable data, the output line we get from SVM is the most optimum one that can classify two classes better. I think this maybe is the reason why the accuracy on test data is so high\n",
    "\n"
   ]
  },
  {
   "cell_type": "markdown",
   "metadata": {},
   "source": [
    "### Importing training dataset using pandas and converting the datagram to matrix"
   ]
  },
  {
   "cell_type": "code",
   "execution_count": 50,
   "metadata": {},
   "outputs": [],
   "source": [
    "dataset = pd.read_fwf('features_train.txt',sep = \" \" , header = None)\n",
    "dataset = dataset.values"
   ]
  },
  {
   "cell_type": "markdown",
   "metadata": {},
   "source": [
    "### importing testing dataset using pandas and converting the datagram to matrix"
   ]
  },
  {
   "cell_type": "code",
   "execution_count": 51,
   "metadata": {},
   "outputs": [],
   "source": [
    "testing_data = pd.read_fwf('features_test.txt', sep = \" \", header = None)\n",
    "testing_data = testing_data.values"
   ]
  },
  {
   "cell_type": "code",
   "execution_count": 52,
   "metadata": {},
   "outputs": [],
   "source": [
    "label1 = 1\n",
    "label2 = 5"
   ]
  },
  {
   "cell_type": "code",
   "execution_count": 53,
   "metadata": {},
   "outputs": [
    {
     "name": "stdout",
     "output_type": "stream",
     "text": [
      "[ 0.3410918 -4.5289375]\n"
     ]
    }
   ],
   "source": [
    "print dataset[0][1:]"
   ]
  },
  {
   "cell_type": "markdown",
   "metadata": {},
   "source": [
    "### Training dataset and labels"
   ]
  },
  {
   "cell_type": "code",
   "execution_count": 54,
   "metadata": {},
   "outputs": [],
   "source": [
    "dataset_5 = dataset[dataset.T[0]==label1]\n",
    "dataset_0 = dataset[dataset.T[0]==label2]\n",
    "\n",
    "train_data = np.empty([len(dataset_5)+len(dataset_0), 3])\n",
    "train_labels = []\n",
    "count = 0\n",
    "for i in range(0, len(dataset)):\n",
    "\n",
    "    if(dataset[i][0] == label1 or dataset[i][0] == label2):\n",
    "\n",
    "        train_data[count] = dataset[i] \n",
    "        train_labels.append(dataset[i][0])\n",
    "        count = count + 1\n",
    "        \n",
    "train_data = train_data[:,1:]"
   ]
  },
  {
   "cell_type": "code",
   "execution_count": 55,
   "metadata": {},
   "outputs": [
    {
     "name": "stdout",
     "output_type": "stream",
     "text": [
      "1561\n",
      "[ 0.44413086 -5.4968125 ]\n"
     ]
    }
   ],
   "source": [
    "print len(train_data)\n",
    "print train_data[0]"
   ]
  },
  {
   "cell_type": "markdown",
   "metadata": {},
   "source": [
    "### Testing dataset and labels"
   ]
  },
  {
   "cell_type": "code",
   "execution_count": 56,
   "metadata": {},
   "outputs": [],
   "source": [
    "test_dataset_5 = testing_data[testing_data.T[0]==label1]\n",
    "test_labels_5 = test_dataset_5.T[0]\n",
    "test_dataset_0 = testing_data[testing_data.T[0]==label2]\n",
    "test_labels_0 = test_dataset_0.T[0]\n",
    "\n",
    "test_data = np.vstack((test_dataset_5, test_dataset_0))\n",
    "test_data = test_data.T[1:3].T\n",
    "test_labels = np.hstack((test_labels_5, test_labels_0))"
   ]
  },
  {
   "cell_type": "markdown",
   "metadata": {},
   "source": [
    "## SVM "
   ]
  },
  {
   "cell_type": "code",
   "execution_count": 57,
   "metadata": {},
   "outputs": [],
   "source": [
    "from sklearn.svm import SVC\n",
    "from sklearn.datasets import make_classification"
   ]
  },
  {
   "cell_type": "code",
   "execution_count": 58,
   "metadata": {},
   "outputs": [],
   "source": [
    "clf = SVC(kernel = 'linear', random_state = 0, tol = 1e-3)"
   ]
  },
  {
   "cell_type": "markdown",
   "metadata": {},
   "source": [
    "## Training the SVM"
   ]
  },
  {
   "cell_type": "code",
   "execution_count": 59,
   "metadata": {},
   "outputs": [
    {
     "data": {
      "text/plain": [
       "SVC(C=1.0, cache_size=200, class_weight=None, coef0=0.0,\n",
       "  decision_function_shape='ovr', degree=3, gamma='auto_deprecated',\n",
       "  kernel='linear', max_iter=-1, probability=False, random_state=0,\n",
       "  shrinking=True, tol=0.001, verbose=False)"
      ]
     },
     "execution_count": 59,
     "metadata": {},
     "output_type": "execute_result"
    }
   ],
   "source": [
    "clf.fit(train_data,train_labels)"
   ]
  },
  {
   "cell_type": "markdown",
   "metadata": {},
   "source": [
    "### Coefficients of SVM with linear kernel"
   ]
  },
  {
   "cell_type": "code",
   "execution_count": 60,
   "metadata": {},
   "outputs": [
    {
     "name": "stdout",
     "output_type": "stream",
     "text": [
      "[[-0.36656408 -1.70762509]]\n"
     ]
    }
   ],
   "source": [
    "print clf.coef_"
   ]
  },
  {
   "cell_type": "markdown",
   "metadata": {},
   "source": [
    "### Testing Accuracy"
   ]
  },
  {
   "cell_type": "code",
   "execution_count": 61,
   "metadata": {},
   "outputs": [
    {
     "name": "stdout",
     "output_type": "stream",
     "text": [
      "0.9787735849056604\n"
     ]
    }
   ],
   "source": [
    "print clf.score(test_data, test_labels)"
   ]
  },
  {
   "cell_type": "code",
   "execution_count": 62,
   "metadata": {},
   "outputs": [
    {
     "name": "stdout",
     "output_type": "stream",
     "text": [
      "[14 14]\n"
     ]
    }
   ],
   "source": [
    "print clf.n_support_"
   ]
  },
  {
   "cell_type": "code",
   "execution_count": 63,
   "metadata": {},
   "outputs": [
    {
     "name": "stdout",
     "output_type": "stream",
     "text": [
      "28\n"
     ]
    }
   ],
   "source": [
    "print len(clf.support_vectors_)"
   ]
  }
 ],
 "metadata": {
  "kernelspec": {
   "display_name": "Python 2",
   "language": "python",
   "name": "python2"
  },
  "language_info": {
   "codemirror_mode": {
    "name": "ipython",
    "version": 2
   },
   "file_extension": ".py",
   "mimetype": "text/x-python",
   "name": "python",
   "nbconvert_exporter": "python",
   "pygments_lexer": "ipython2",
   "version": "2.7.12"
  }
 },
 "nbformat": 4,
 "nbformat_minor": 2
}

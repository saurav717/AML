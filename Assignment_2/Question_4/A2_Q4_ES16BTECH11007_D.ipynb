{
 "cells": [
  {
   "cell_type": "code",
   "execution_count": 38,
   "metadata": {},
   "outputs": [],
   "source": [
    "import numpy as np\n",
    "import pandas as pd\n",
    "import matplotlib.pyplot as plt"
   ]
  },
  {
   "cell_type": "markdown",
   "metadata": {},
   "source": [
    "## Results\n",
    "\n",
    "For training the SVM we took RBF kernel with different biases (C)  in the dual of SVM.\n",
    "The least training error (highest training accuracy) occurred at C =  10**6\n",
    "The least Test error (highest test accuracy) occurred at C = 100        \n",
    "\n",
    "The train accuracy is going on increasing as we increase the value of our bias. This maybe because the curve has overfitted the data and hence the test accuracy went on decreasing as we go from C = 100 to C = 10**6\n"
   ]
  },
  {
   "cell_type": "markdown",
   "metadata": {},
   "source": [
    "### Importing training dataset using pandas and converting the datagram to matrix"
   ]
  },
  {
   "cell_type": "code",
   "execution_count": 39,
   "metadata": {},
   "outputs": [],
   "source": [
    "dataset = pd.read_fwf('features_train.txt',sep = \" \" , header = None)\n",
    "dataset = dataset.values"
   ]
  },
  {
   "cell_type": "markdown",
   "metadata": {},
   "source": [
    "### importing testing dataset using pandas and converting the datagram to matrix"
   ]
  },
  {
   "cell_type": "code",
   "execution_count": 40,
   "metadata": {},
   "outputs": [],
   "source": [
    "testing_data = pd.read_fwf('features_test.txt', sep = \" \", header = None)\n",
    "testing_data = testing_data.values"
   ]
  },
  {
   "cell_type": "code",
   "execution_count": 41,
   "metadata": {},
   "outputs": [],
   "source": [
    "label1 = 1\n",
    "label2 = 5"
   ]
  },
  {
   "cell_type": "markdown",
   "metadata": {},
   "source": [
    "### Training dataset and labels"
   ]
  },
  {
   "cell_type": "code",
   "execution_count": 42,
   "metadata": {},
   "outputs": [],
   "source": [
    "dataset_5 = dataset[dataset.T[0]==label1]\n",
    "dataset_0 = dataset[dataset.T[0]==label2]\n",
    "\n",
    "train_data = np.vstack((dataset_5, dataset_0))\n",
    "np.random.shuffle(train_data)\n",
    "\n",
    "train_labels = train_data.T[0]\n",
    "train_data = train_data.T[1:3].T"
   ]
  },
  {
   "cell_type": "markdown",
   "metadata": {},
   "source": [
    "### Testing dataset and labels"
   ]
  },
  {
   "cell_type": "code",
   "execution_count": 43,
   "metadata": {},
   "outputs": [],
   "source": [
    "test_dataset_5 = testing_data[testing_data.T[0]==label1]\n",
    "test_dataset_0 = testing_data[testing_data.T[0]==label2]\n",
    "\n",
    "test_data = np.vstack((test_dataset_5, test_dataset_0))\n",
    "np.random.shuffle(test_data)\n",
    "\n",
    "test_labels = test_data.T[0]\n",
    "test_data = test_data.T[1:3].T"
   ]
  },
  {
   "cell_type": "markdown",
   "metadata": {},
   "source": [
    "## SVM "
   ]
  },
  {
   "cell_type": "code",
   "execution_count": 44,
   "metadata": {},
   "outputs": [],
   "source": [
    "from sklearn.svm import SVC\n",
    "from sklearn.datasets import make_classification"
   ]
  },
  {
   "cell_type": "markdown",
   "metadata": {},
   "source": [
    "## Training the SVM"
   ]
  },
  {
   "cell_type": "markdown",
   "metadata": {},
   "source": [
    "### Problem 1: \n",
    "### The data has been shuffled once and the SVM classifies a point only between two classes"
   ]
  },
  {
   "cell_type": "code",
   "execution_count": 45,
   "metadata": {},
   "outputs": [],
   "source": [
    "C = np.array([0.01,1,100,10**4, 10**6])\n",
    "scores = np.empty(len(C))\n",
    "train_scores = np.empty(len(C))\n",
    "support_vector = np.empty(len(C))"
   ]
  },
  {
   "cell_type": "code",
   "execution_count": 46,
   "metadata": {},
   "outputs": [],
   "source": [
    "\n",
    "for i in range(0, len(C)):\n",
    "    clf = SVC(kernel = 'rbf', C = C[i],  tol = 1e-3)\n",
    "    clf.fit( train_data , train_labels )\n",
    "    scores[i] = clf.score(test_data, test_labels)\n",
    "    train_scores[i] = clf.score(train_data, train_labels)\n",
    "    support_vector[i] = len(clf.support_vectors_)\n",
    "    "
   ]
  },
  {
   "cell_type": "code",
   "execution_count": 47,
   "metadata": {},
   "outputs": [
    {
     "name": "stdout",
     "output_type": "stream",
     "text": [
      "\n",
      "C =  [1.e-02 1.e+00 1.e+02 1.e+04 1.e+06]\n",
      "\n",
      "accuracies at C [0.97877358 0.97877358 0.98113208 0.98113208 0.97877358]\n",
      "\n",
      "highest accuracy =  0.9811320754716981\n",
      "\n",
      "C at highest test accuracy =  100.0\n",
      "\n",
      "C at lowest test accuracy = 0.01\n",
      "\n"
     ]
    },
    {
     "data": {
      "text/plain": [
       "[<matplotlib.lines.Line2D at 0x7f4e2db48690>]"
      ]
     },
     "execution_count": 47,
     "metadata": {},
     "output_type": "execute_result"
    },
    {
     "data": {
      "image/png": "[encoded data removed]",
      "text/plain": [
       "<matplotlib.figure.Figure at 0x7f4e2e1b5490>"
      ]
     },
     "metadata": {},
     "output_type": "display_data"
    }
   ],
   "source": [
    "print\n",
    "print \"C = \", C\n",
    "print\n",
    "print \"accuracies at C\",  scores\n",
    "print\n",
    "print \"highest accuracy = \", scores[np.argmax(scores)]\n",
    "print\n",
    "print \"C at highest test accuracy = \", C[np.argmax(scores)]\n",
    "print\n",
    "print \"C at lowest test accuracy =\", C[np.argmin(scores)]\n",
    "print\n",
    "\n",
    "x = np.linspace(0,3,4)\n",
    "plt.title(\"C v accuracy\")\n",
    "plt.xlabel('C')\n",
    "plt.ylabel('accuracy')\n",
    "plt.plot(C,scores)\n"
   ]
  },
  {
   "cell_type": "markdown",
   "metadata": {},
   "source": [
    "### from C = 0.01 to C = 100 the curve is increasing"
   ]
  },
  {
   "cell_type": "code",
   "execution_count": 48,
   "metadata": {},
   "outputs": [
    {
     "name": "stdout",
     "output_type": "stream",
     "text": [
      "\n",
      "from C = 0.01 to C = 100 the curve is increasing\n",
      "\n"
     ]
    },
    {
     "data": {
      "text/plain": [
       "[<matplotlib.lines.Line2D at 0x7f4e2dc429d0>]"
      ]
     },
     "execution_count": 48,
     "metadata": {},
     "output_type": "execute_result"
    },
    {
     "data": {
      "image/png": "[encoded data removed]",
      "text/plain": [
       "<matplotlib.figure.Figure at 0x7f4e2ddd2950>"
      ]
     },
     "metadata": {},
     "output_type": "display_data"
    }
   ],
   "source": [
    "print \n",
    "print \"from C = 0.01 to C = 100 the curve is increasing\"\n",
    "print \n",
    "plt.xlabel('C')\n",
    "plt.ylabel('accuracy')\n",
    "plt.plot(C[0:3], scores[0:3])"
   ]
  },
  {
   "cell_type": "markdown",
   "metadata": {},
   "source": [
    "### from C = 100 to C = 10^6 the curve is decreasing"
   ]
  },
  {
   "cell_type": "code",
   "execution_count": 49,
   "metadata": {},
   "outputs": [
    {
     "name": "stdout",
     "output_type": "stream",
     "text": [
      "\n",
      "from C = 100 to C = 10^6 the curve is decreasing\n",
      "\n"
     ]
    },
    {
     "data": {
      "text/plain": [
       "[<matplotlib.lines.Line2D at 0x7f4e2db739d0>]"
      ]
     },
     "execution_count": 49,
     "metadata": {},
     "output_type": "execute_result"
    },
    {
     "data": {
      "image/png": "[encoded data removed]",
      "text/plain": [
       "<matplotlib.figure.Figure at 0x7f4e2dbf9f90>"
      ]
     },
     "metadata": {},
     "output_type": "display_data"
    }
   ],
   "source": [
    "print \n",
    "print \"from C = 100 to C = 10^6 the curve is decreasing\"\n",
    "print \n",
    "plt.xlabel('C')\n",
    "plt.ylabel('accuracy')\n",
    "plt.plot(C[3:6], scores[3:6])"
   ]
  },
  {
   "cell_type": "markdown",
   "metadata": {},
   "source": [
    "# Train Error Function (Training accuracy v C)"
   ]
  },
  {
   "cell_type": "code",
   "execution_count": 50,
   "metadata": {},
   "outputs": [
    {
     "name": "stdout",
     "output_type": "stream",
     "text": [
      "train scores =  [0.99615631 0.9955157  0.99679693 0.99743754 0.99871877]\n",
      "highest train accuracy occured at C =  1000000.0\n"
     ]
    },
    {
     "data": {
      "text/plain": [
       "[<matplotlib.lines.Line2D at 0x7f4e2dac11d0>]"
      ]
     },
     "execution_count": 50,
     "metadata": {},
     "output_type": "execute_result"
    },
    {
     "data": {
      "image/png": "[encoded data removed]",
      "text/plain": [
       "<matplotlib.figure.Figure at 0x7f4e2dfc9590>"
      ]
     },
     "metadata": {},
     "output_type": "display_data"
    }
   ],
   "source": [
    "print \"train scores = \", train_scores\n",
    "print \"highest train accuracy occured at C = \", C[np.argmax(train_scores)]\n",
    "plt.xlabel('C')\n",
    "plt.ylabel('accuracy')\n",
    "plt.plot( C, train_scores)\n"
   ]
  }
 ],
 "metadata": {
  "kernelspec": {
   "display_name": "Python 2",
   "language": "python",
   "name": "python2"
  },
  "language_info": {
   "codemirror_mode": {
    "name": "ipython",
    "version": 2
   },
   "file_extension": ".py",
   "mimetype": "text/x-python",
   "name": "python",
   "nbconvert_exporter": "python",
   "pygments_lexer": "ipython2",
   "version": "2.7.12"
  }
 },
 "nbformat": 4,
 "nbformat_minor": 2
}

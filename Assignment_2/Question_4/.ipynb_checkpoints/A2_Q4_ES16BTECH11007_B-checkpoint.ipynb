{
 "cells": [
  {
   "cell_type": "code",
   "execution_count": 96,
   "metadata": {},
   "outputs": [],
   "source": [
    "import numpy as np\n",
    "import pandas as pd\n",
    "import matplotlib.pyplot as plt"
   ]
  },
  {
   "cell_type": "markdown",
   "metadata": {},
   "source": [
    "## Results\n",
    "\n",
    "We took different sets of data of length [50,100 , 200 ,800]\n",
    "\n",
    "Kernel used = Linear\n",
    "\n",
    "But the Accuracy remained constant by taking first 50, 100, 200, 800 datasets.\n",
    "\n",
    "This maybe because the support vectors for defining the boundary are the same points in all these datasets. So, everytime the accuracy on the test dataset is same, it maybe that the decision boundary did not change when we train with those datapoints.\n",
    "\n"
   ]
  },
  {
   "cell_type": "markdown",
   "metadata": {},
   "source": [
    "### Importing training dataset using pandas and converting the datagram to matrix"
   ]
  },
  {
   "cell_type": "code",
   "execution_count": 97,
   "metadata": {},
   "outputs": [],
   "source": [
    "dataset = pd.read_fwf('features_train.txt',sep = \" \" , header = None)\n",
    "dataset = dataset.values"
   ]
  },
  {
   "cell_type": "markdown",
   "metadata": {},
   "source": [
    "### importing testing dataset using pandas and converting the datagram to matrix"
   ]
  },
  {
   "cell_type": "code",
   "execution_count": 98,
   "metadata": {},
   "outputs": [],
   "source": [
    "testing_data = pd.read_fwf('features_test.txt', sep = \" \", header = None)\n",
    "testing_data = testing_data.values"
   ]
  },
  {
   "cell_type": "code",
   "execution_count": 99,
   "metadata": {},
   "outputs": [],
   "source": [
    "label1 = 1\n",
    "label2 = 5"
   ]
  },
  {
   "cell_type": "markdown",
   "metadata": {},
   "source": [
    "### Training dataset and labels"
   ]
  },
  {
   "cell_type": "code",
   "execution_count": 100,
   "metadata": {},
   "outputs": [],
   "source": [
    "dataset_5 = dataset[dataset.T[0]==label1]\n",
    "dataset_0 = dataset[dataset.T[0]==label2]\n",
    "\n",
    "train_data = np.empty([len(dataset_5)+len(dataset_0), 3])\n",
    "train_labels = []\n",
    "count = 0\n",
    "for i in range(0, len(dataset)):\n",
    "\n",
    "    if(dataset[i][0] == label1 or dataset[i][0] == label2):\n",
    "\n",
    "        train_data[count] = dataset[i] \n",
    "        train_labels.append(dataset[i][0])\n",
    "        count = count + 1\n",
    "        \n",
    "train_data = train_data[:,1:]"
   ]
  },
  {
   "cell_type": "markdown",
   "metadata": {},
   "source": [
    "### Testing dataset and labels"
   ]
  },
  {
   "cell_type": "code",
   "execution_count": 101,
   "metadata": {},
   "outputs": [],
   "source": [
    "test_dataset_5 = testing_data[testing_data.T[0]==label1]\n",
    "test_dataset_0 = testing_data[testing_data.T[0]==label2]\n",
    "\n",
    "test_data = np.vstack((test_dataset_5, test_dataset_0))\n",
    "np.random.shuffle(test_data)\n",
    "\n",
    "test_labels = test_data.T[0]\n",
    "test_data = test_data.T[1:3].T"
   ]
  },
  {
   "cell_type": "markdown",
   "metadata": {},
   "source": [
    "## SVM "
   ]
  },
  {
   "cell_type": "code",
   "execution_count": 102,
   "metadata": {},
   "outputs": [],
   "source": [
    "from sklearn.svm import SVC\n",
    "from sklearn.datasets import make_classification"
   ]
  },
  {
   "cell_type": "markdown",
   "metadata": {},
   "source": [
    "## DATA DIVISION"
   ]
  },
  {
   "cell_type": "code",
   "execution_count": 103,
   "metadata": {},
   "outputs": [],
   "source": [
    "div = np.array([50,100,200, 800])\n",
    "scores = np.empty(len(div))\n",
    "support_vector = np.empty(len(div))"
   ]
  },
  {
   "cell_type": "code",
   "execution_count": 104,
   "metadata": {},
   "outputs": [
    {
     "name": "stdout",
     "output_type": "stream",
     "text": [
      "50\n",
      "50\n",
      "1005\n"
     ]
    }
   ],
   "source": [
    "print len(train_labels[0:div[0]])\n",
    "print len(train_data[0:div[0]])\n",
    "\n",
    "print len(dataset_5)"
   ]
  },
  {
   "cell_type": "markdown",
   "metadata": {},
   "source": [
    "## Training the SVM"
   ]
  },
  {
   "cell_type": "markdown",
   "metadata": {},
   "source": [
    "### Problem 1: "
   ]
  },
  {
   "cell_type": "code",
   "execution_count": 105,
   "metadata": {},
   "outputs": [],
   "source": [
    "for i in range(0, len(div)):\n",
    "    clf = SVC(kernel = 'linear', random_state = 0, tol = 1e-2)\n",
    "    train = train_data[0:div[i]]\n",
    "    train_lab = train_labels[0:div[i]] \n",
    "    clf.fit( train , train_lab )\n",
    "    scores[i] = clf.score(test_data, test_labels)\n",
    "    support_vector[i] = len(clf.support_vectors_)"
   ]
  },
  {
   "cell_type": "markdown",
   "metadata": {},
   "source": [
    "##           Dataset Size v Accuracy"
   ]
  },
  {
   "cell_type": "code",
   "execution_count": 106,
   "metadata": {},
   "outputs": [
    {
     "name": "stdout",
     "output_type": "stream",
     "text": [
      "accuracy =  0.9811320754716981\n"
     ]
    },
    {
     "data": {
      "text/plain": [
       "[<matplotlib.lines.Line2D at 0x7f4078fecb50>]"
      ]
     },
     "execution_count": 106,
     "metadata": {},
     "output_type": "execute_result"
    },
    {
     "data": {
      "image/png": "[encoded data removed]",
      "text/plain": [
       "<matplotlib.figure.Figure at 0x7f4079340b90>"
      ]
     },
     "metadata": {},
     "output_type": "display_data"
    }
   ],
   "source": [
    "x = np.linspace(0,3,4)\n",
    "print \"accuracy = \", scores[0]\n",
    "plt.title(\"Datasize v Accuracy\")\n",
    "plt.xlabel('dataset size')\n",
    "plt.ylabel('accuracy')\n",
    "plt.plot(x,scores)"
   ]
  },
  {
   "cell_type": "code",
   "execution_count": 107,
   "metadata": {},
   "outputs": [
    {
     "name": "stdout",
     "output_type": "stream",
     "text": [
      "[ 2.  4.  8. 14.]\n"
     ]
    }
   ],
   "source": [
    "print support_vector"
   ]
  },
  {
   "cell_type": "code",
   "execution_count": 108,
   "metadata": {},
   "outputs": [
    {
     "name": "stdout",
     "output_type": "stream",
     "text": [
      "[[ 0.23962695 -3.3054375 ]\n",
      " [ 0.24764258 -2.31925   ]\n",
      " [ 0.16217188 -2.327625  ]\n",
      " [ 0.17714062 -2.3680625 ]\n",
      " [ 0.22025    -3.0306875 ]\n",
      " [ 0.18467578 -2.040125  ]\n",
      " [ 0.18350195 -2.1923125 ]\n",
      " [ 0.16456055 -2.7685625 ]\n",
      " [ 0.14020508 -2.8765    ]\n",
      " [ 0.2040625  -3.052875  ]\n",
      " [ 0.15241797 -2.6614375 ]\n",
      " [ 0.15593555 -3.0060625 ]\n",
      " [ 0.18180469 -3.0364375 ]\n",
      " [ 0.15175    -2.97025   ]]\n"
     ]
    }
   ],
   "source": [
    "print clf.support_vectors_"
   ]
  }
 ],
 "metadata": {
  "kernelspec": {
   "display_name": "Python 2",
   "language": "python",
   "name": "python2"
  },
  "language_info": {
   "codemirror_mode": {
    "name": "ipython",
    "version": 2
   },
   "file_extension": ".py",
   "mimetype": "text/x-python",
   "name": "python",
   "nbconvert_exporter": "python",
   "pygments_lexer": "ipython2",
   "version": "2.7.12"
  }
 },
 "nbformat": 4,
 "nbformat_minor": 2
}

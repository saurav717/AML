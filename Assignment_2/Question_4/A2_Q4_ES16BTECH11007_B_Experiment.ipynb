{
 "cells": [
  {
   "cell_type": "code",
   "execution_count": 42,
   "metadata": {},
   "outputs": [],
   "source": [
    "import numpy as np\n",
    "import pandas as pd\n",
    "import matplotlib.pyplot as plt"
   ]
  },
  {
   "cell_type": "markdown",
   "metadata": {},
   "source": [
    "### Importing training dataset using pandas and converting the datagram to matrix"
   ]
  },
  {
   "cell_type": "code",
   "execution_count": 43,
   "metadata": {},
   "outputs": [],
   "source": [
    "dataset = pd.read_fwf('features_train.txt',sep = \" \" , header = None)\n",
    "dataset = dataset.values"
   ]
  },
  {
   "cell_type": "markdown",
   "metadata": {},
   "source": [
    "### importing testing dataset using pandas and converting the datagram to matrix"
   ]
  },
  {
   "cell_type": "code",
   "execution_count": 4,
   "metadata": {},
   "outputs": [],
   "source": [
    "testing_data = pd.read_fwf('features_test.txt', sep = \" \", header = None)\n",
    "testing_data = testing_data.values"
   ]
  },
  {
   "cell_type": "code",
   "execution_count": 5,
   "metadata": {},
   "outputs": [],
   "source": [
    "label1 = 1\n",
    "label2 = 5"
   ]
  },
  {
   "cell_type": "markdown",
   "metadata": {},
   "source": [
    "### Training dataset and labels"
   ]
  },
  {
   "cell_type": "code",
   "execution_count": 6,
   "metadata": {},
   "outputs": [],
   "source": [
    "dataset_5 = dataset[dataset.T[0]==label1]\n",
    "dataset_0 = dataset[dataset.T[0]==label2]\n",
    "\n",
    "train_data = np.vstack((dataset_5, dataset_0))\n",
    "np.random.shuffle(train_data)\n",
    "\n",
    "train_labels = train_data.T[0]\n",
    "train_data = train_data.T[1:3].T"
   ]
  },
  {
   "cell_type": "markdown",
   "metadata": {},
   "source": [
    "### Testing dataset and labels"
   ]
  },
  {
   "cell_type": "code",
   "execution_count": 7,
   "metadata": {},
   "outputs": [],
   "source": [
    "test_dataset_5 = testing_data[testing_data.T[0]==label1]\n",
    "test_dataset_0 = testing_data[testing_data.T[0]==label2]\n",
    "\n",
    "test_data = np.vstack((test_dataset_5, test_dataset_0))\n",
    "np.random.shuffle(test_data)\n",
    "\n",
    "test_labels = test_data.T[0]\n",
    "test_data = test_data.T[1:3].T"
   ]
  },
  {
   "cell_type": "markdown",
   "metadata": {},
   "source": [
    "## SVM "
   ]
  },
  {
   "cell_type": "code",
   "execution_count": 8,
   "metadata": {},
   "outputs": [],
   "source": [
    "from sklearn.svm import SVC\n",
    "from sklearn.datasets import make_classification"
   ]
  },
  {
   "cell_type": "markdown",
   "metadata": {},
   "source": [
    "## DATA DIVISION"
   ]
  },
  {
   "cell_type": "code",
   "execution_count": 9,
   "metadata": {},
   "outputs": [],
   "source": [
    "div = np.array([50,100,200, 800])\n",
    "\n"
   ]
  },
  {
   "cell_type": "code",
   "execution_count": 10,
   "metadata": {},
   "outputs": [
    {
     "name": "stdout",
     "output_type": "stream",
     "text": [
      "50\n",
      "50\n",
      "1005\n"
     ]
    }
   ],
   "source": [
    "print len(train_labels[0:div[0]])\n",
    "print len(train_data[0:div[0]])\n",
    "\n",
    "print len(dataset_5)"
   ]
  },
  {
   "cell_type": "markdown",
   "metadata": {},
   "source": [
    "## Training the SVM"
   ]
  },
  {
   "cell_type": "markdown",
   "metadata": {},
   "source": [
    "### Problem 1: \n",
    "### Data taken for training may be skewed towards only one class ( ex: all data belongs to one class) then there is no point in training, so we shuffle the data\n",
    "### The data has been shuffled once and the SVM classifies a point only between two classes"
   ]
  },
  {
   "cell_type": "code",
   "execution_count": 48,
   "metadata": {},
   "outputs": [],
   "source": [
    "error = [1e-0, 1e-2, 1e-3, 1e-4] \n",
    "deg = [1,2,3,4,5,6,7,8,9,10,11]\n",
    "scores = np.empty(len(deg))\n",
    "support_vector = np.empty(len(deg))"
   ]
  },
  {
   "cell_type": "markdown",
   "metadata": {},
   "source": [
    "## Tolerance = 1.0"
   ]
  },
  {
   "cell_type": "code",
   "execution_count": 61,
   "metadata": {},
   "outputs": [],
   "source": [
    "\n",
    "for i in range(0, len(deg)):\n",
    "    clf = SVC(kernel = 'poly', degree = deg[i], C=1.0, random_state = 0, tol = 1e-0)\n",
    "    clf.fit( train_data , train_labels )\n",
    "    scores[i] = clf.score(test_data, test_labels)\n",
    "    support_vector[i] = len(clf.support_vectors_)\n",
    "    "
   ]
  },
  {
   "cell_type": "code",
   "execution_count": 62,
   "metadata": {},
   "outputs": [
    {
     "name": "stdout",
     "output_type": "stream",
     "text": [
      "[0.97641509 0.97877358 0.97877358 0.98113208 0.98349057 0.98584906\n",
      " 0.98584906 0.98113208 0.98113208 0.98113208 0.97877358]\n"
     ]
    },
    {
     "data": {
      "text/plain": [
       "[<matplotlib.lines.Line2D at 0x7fe8b68f0190>]"
      ]
     },
     "execution_count": 62,
     "metadata": {},
     "output_type": "execute_result"
    },
    {
     "data": {
      "image/png": "[encoded data removed]",
      "text/plain": [
       "<matplotlib.figure.Figure at 0x7fe8b697ec50>"
      ]
     },
     "metadata": {},
     "output_type": "display_data"
    }
   ],
   "source": [
    "print scores\n",
    "x = np.linspace(0,3,4)\n",
    "plt.title(\"degree v accuracy\")\n",
    "plt.xlabel('degree')\n",
    "plt.ylabel('accuracy')\n",
    "plt.plot(deg,scores)\n",
    "\n"
   ]
  },
  {
   "cell_type": "markdown",
   "metadata": {},
   "source": [
    "## Tolerance = 0.01"
   ]
  },
  {
   "cell_type": "code",
   "execution_count": 63,
   "metadata": {},
   "outputs": [],
   "source": [
    "for i in range(0, len(deg)):\n",
    "    clf = SVC(kernel = 'poly', degree = deg[i], C=1.0, random_state = 0, tol = 1e-2)\n",
    "    clf.fit( train_data , train_labels )\n",
    "    scores[i] = clf.score(test_data, test_labels)\n",
    "    support_vector[i] = len(clf.support_vectors_)\n",
    "    "
   ]
  },
  {
   "cell_type": "code",
   "execution_count": 64,
   "metadata": {
    "scrolled": true
   },
   "outputs": [
    {
     "name": "stdout",
     "output_type": "stream",
     "text": [
      "[0.97877358 0.98113208 0.98113208 0.98113208 0.98349057 0.98584906\n",
      " 0.98820755 0.98349057 0.98113208 0.98113208 0.97877358]\n"
     ]
    },
    {
     "data": {
      "text/plain": [
       "[<matplotlib.lines.Line2D at 0x7fe8b623bc90>]"
      ]
     },
     "execution_count": 64,
     "metadata": {},
     "output_type": "execute_result"
    },
    {
     "data": {
      "image/png": "[encoded data removed]",
      "text/plain": [
       "<matplotlib.figure.Figure at 0x7fe8b8c7a1d0>"
      ]
     },
     "metadata": {},
     "output_type": "display_data"
    }
   ],
   "source": [
    "print scores\n",
    "x = np.linspace(0,3,4)\n",
    "plt.title(\"degree v accuracy\")\n",
    "plt.xlabel('degree')\n",
    "plt.ylabel('accuracy')\n",
    "plt.plot(deg,scores)"
   ]
  },
  {
   "cell_type": "markdown",
   "metadata": {},
   "source": [
    "## Tolerance = 0.001"
   ]
  },
  {
   "cell_type": "code",
   "execution_count": 65,
   "metadata": {},
   "outputs": [],
   "source": [
    "for i in range(0, len(deg)):\n",
    "    clf = SVC(kernel = 'poly', degree = deg[i], C=1.0, random_state = 0, tol = 1e-3)\n",
    "    clf.fit( train_data , train_labels )\n",
    "    scores[i] = clf.score(test_data, test_labels)\n",
    "    support_vector[i] = len(clf.support_vectors_)"
   ]
  },
  {
   "cell_type": "code",
   "execution_count": 66,
   "metadata": {},
   "outputs": [
    {
     "name": "stdout",
     "output_type": "stream",
     "text": [
      "[0.97877358 0.98113208 0.98113208 0.98113208 0.98349057 0.98584906\n",
      " 0.98820755 0.98349057 0.98113208 0.98113208 0.97877358]\n"
     ]
    },
    {
     "data": {
      "text/plain": [
       "[<matplotlib.lines.Line2D at 0x7fe8b6179450>]"
      ]
     },
     "execution_count": 66,
     "metadata": {},
     "output_type": "execute_result"
    },
    {
     "data": {
      "image/png": "[encoded data removed]",
      "text/plain": [
       "<matplotlib.figure.Figure at 0x7fe8b625eb90>"
      ]
     },
     "metadata": {},
     "output_type": "display_data"
    }
   ],
   "source": [
    "print scores\n",
    "x = np.linspace(0,3,4)\n",
    "plt.title(\"degree v accuracy\")\n",
    "plt.xlabel('degree')\n",
    "plt.ylabel('accuracy')\n",
    "plt.plot(deg,scores)"
   ]
  },
  {
   "cell_type": "markdown",
   "metadata": {},
   "source": [
    "## Tolerance = 0.0001"
   ]
  },
  {
   "cell_type": "code",
   "execution_count": null,
   "metadata": {},
   "outputs": [],
   "source": [
    "for i in range(0, len(deg)):\n",
    "    clf = SVC(kernel = 'poly', degree = deg[i], C=1.0, gamma = 1, random_state = 0, tol = 1e-4)\n",
    "    clf.fit( train_data , train_labels )\n",
    "    scores[i] = clf.score(test_data, test_labels)\n",
    "    support_vector[i] = len(clf.support_vectors_)"
   ]
  },
  {
   "cell_type": "code",
   "execution_count": 58,
   "metadata": {},
   "outputs": [
    {
     "data": {
      "text/plain": [
       "[<matplotlib.lines.Line2D at 0x7fe8b69a6310>]"
      ]
     },
     "execution_count": 58,
     "metadata": {},
     "output_type": "execute_result"
    },
    {
     "data": {
      "image/png": "[encoded data removed]",
      "text/plain": [
       "<matplotlib.figure.Figure at 0x7fe8b6819710>"
      ]
     },
     "metadata": {},
     "output_type": "display_data"
    }
   ],
   "source": [
    "print scores\n",
    "x = np.linspace(0,3,4)\n",
    "plt.title(\"degree v accuracy\")\n",
    "plt.xlabel('degree')\n",
    "plt.ylabel('accuracy')\n",
    "plt.plot(deg,scores)"
   ]
  },
  {
   "cell_type": "code",
   "execution_count": 19,
   "metadata": {},
   "outputs": [
    {
     "name": "stdout",
     "output_type": "stream",
     "text": [
      "[ 2.  2.  2. 13.]\n"
     ]
    }
   ],
   "source": [
    "print support_vector"
   ]
  },
  {
   "cell_type": "code",
   "execution_count": 20,
   "metadata": {},
   "outputs": [
    {
     "name": "stdout",
     "output_type": "stream",
     "text": [
      "[[ 0.14639062 -1.8294375 ]\n",
      " [ 0.22025    -3.0306875 ]\n",
      " [ 0.24764258 -2.31925   ]\n",
      " [ 0.28905469 -3.669375  ]\n",
      " [ 0.13479492 -1.7898125 ]\n",
      " [ 0.22255859 -2.02525   ]\n",
      " [ 0.10407031 -2.424125  ]\n",
      " [ 0.14236523 -2.8335    ]\n",
      " [ 0.18000586 -2.755125  ]\n",
      " [ 0.30482617 -3.0379375 ]\n",
      " [ 0.48453711 -3.700375  ]\n",
      " [ 0.16456055 -2.7685625 ]\n",
      " [ 0.29119141 -3.1743125 ]]\n"
     ]
    }
   ],
   "source": [
    "print clf.support_vectors_"
   ]
  }
 ],
 "metadata": {
  "kernelspec": {
   "display_name": "Python 2",
   "language": "python",
   "name": "python2"
  },
  "language_info": {
   "codemirror_mode": {
    "name": "ipython",
    "version": 2
   },
   "file_extension": ".py",
   "mimetype": "text/x-python",
   "name": "python",
   "nbconvert_exporter": "python",
   "pygments_lexer": "ipython2",
   "version": "2.7.12"
  }
 },
 "nbformat": 4,
 "nbformat_minor": 2
}

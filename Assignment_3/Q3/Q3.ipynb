{
 "cells": [
  {
   "cell_type": "code",
   "execution_count": 77,
   "metadata": {},
   "outputs": [],
   "source": [
    "import numpy as np\n",
    "import pandas as pd\n",
    "import matplotlib.pyplot as plt"
   ]
  },
  {
   "cell_type": "markdown",
   "metadata": {},
   "source": [
    "### Training Function"
   ]
  },
  {
   "cell_type": "code",
   "execution_count": 78,
   "metadata": {},
   "outputs": [],
   "source": [
    "def mylinridgereg(X, Y, L):\n",
    "\n",
    "    A = np.matmul(X.T,X)\n",
    "    I = np.identity(A.shape[0])\n",
    "    A = np.linalg.inv(A + (L*I))\n",
    "    B = np.matmul(X.T,Y)\n",
    "\n",
    "    W = np.matmul(A,B)\n",
    "    return W"
   ]
  },
  {
   "cell_type": "markdown",
   "metadata": {},
   "source": [
    "### Testing Function"
   ]
  },
  {
   "cell_type": "code",
   "execution_count": 79,
   "metadata": {},
   "outputs": [],
   "source": [
    "def mylinridgeregeval(X, weights):\n",
    "    return np.matmul(X,weights.T)"
   ]
  },
  {
   "cell_type": "markdown",
   "metadata": {},
   "source": [
    "### Error Function"
   ]
  },
  {
   "cell_type": "code",
   "execution_count": 80,
   "metadata": {},
   "outputs": [],
   "source": [
    "def meansquarederr(T, Tdash):\n",
    "    dif = T - Tdash\n",
    "    dif = np.sum(dif**2)\n",
    "    dif = dif/len(T)\n",
    "    return dif"
   ]
  },
  {
   "cell_type": "markdown",
   "metadata": {},
   "source": [
    "## Data Reading"
   ]
  },
  {
   "cell_type": "code",
   "execution_count": 81,
   "metadata": {},
   "outputs": [],
   "source": [
    "data = pd.read_csv('linregdata')"
   ]
  },
  {
   "cell_type": "code",
   "execution_count": 82,
   "metadata": {
    "scrolled": true
   },
   "outputs": [
    {
     "name": "stdout",
     "output_type": "stream",
     "text": [
      "   M  0.455  0.365  0.095   0.514  0.2245   0.101   0.15  15\n",
      "0  M  0.350  0.265  0.090  0.2255  0.0995  0.0485  0.070   7\n",
      "1  F  0.530  0.420  0.135  0.6770  0.2565  0.1415  0.210   9\n",
      "2  M  0.440  0.365  0.125  0.5160  0.2155  0.1140  0.155  10\n",
      "3  I  0.330  0.255  0.080  0.2050  0.0895  0.0395  0.055   7\n",
      "4  I  0.425  0.300  0.095  0.3515  0.1410  0.0775  0.120   8\n"
     ]
    }
   ],
   "source": [
    "print data.head()"
   ]
  },
  {
   "cell_type": "markdown",
   "metadata": {},
   "source": [
    "## Purifying Training data"
   ]
  },
  {
   "cell_type": "code",
   "execution_count": 83,
   "metadata": {},
   "outputs": [
    {
     "data": {
      "text/html": [
       "<div>\n",
       "<style scoped>\n",
       "    .dataframe tbody tr th:only-of-type {\n",
       "        vertical-align: middle;\n",
       "    }\n",
       "\n",
       "    .dataframe tbody tr th {\n",
       "        vertical-align: top;\n",
       "    }\n",
       "\n",
       "    .dataframe thead th {\n",
       "        text-align: right;\n",
       "    }\n",
       "</style>\n",
       "<table border=\"1\" class=\"dataframe\">\n",
       "  <thead>\n",
       "    <tr style=\"text-align: right;\">\n",
       "      <th></th>\n",
       "      <th>M</th>\n",
       "      <th>0.455</th>\n",
       "      <th>0.365</th>\n",
       "      <th>0.095</th>\n",
       "      <th>0.514</th>\n",
       "      <th>0.2245</th>\n",
       "      <th>0.101</th>\n",
       "      <th>0.15</th>\n",
       "      <th>15</th>\n",
       "    </tr>\n",
       "  </thead>\n",
       "  <tbody>\n",
       "    <tr>\n",
       "      <th>0</th>\n",
       "      <td>2</td>\n",
       "      <td>0.350</td>\n",
       "      <td>0.265</td>\n",
       "      <td>0.090</td>\n",
       "      <td>0.2255</td>\n",
       "      <td>0.0995</td>\n",
       "      <td>0.0485</td>\n",
       "      <td>0.070</td>\n",
       "      <td>7</td>\n",
       "    </tr>\n",
       "    <tr>\n",
       "      <th>1</th>\n",
       "      <td>0</td>\n",
       "      <td>0.530</td>\n",
       "      <td>0.420</td>\n",
       "      <td>0.135</td>\n",
       "      <td>0.6770</td>\n",
       "      <td>0.2565</td>\n",
       "      <td>0.1415</td>\n",
       "      <td>0.210</td>\n",
       "      <td>9</td>\n",
       "    </tr>\n",
       "    <tr>\n",
       "      <th>2</th>\n",
       "      <td>2</td>\n",
       "      <td>0.440</td>\n",
       "      <td>0.365</td>\n",
       "      <td>0.125</td>\n",
       "      <td>0.5160</td>\n",
       "      <td>0.2155</td>\n",
       "      <td>0.1140</td>\n",
       "      <td>0.155</td>\n",
       "      <td>10</td>\n",
       "    </tr>\n",
       "    <tr>\n",
       "      <th>3</th>\n",
       "      <td>1</td>\n",
       "      <td>0.330</td>\n",
       "      <td>0.255</td>\n",
       "      <td>0.080</td>\n",
       "      <td>0.2050</td>\n",
       "      <td>0.0895</td>\n",
       "      <td>0.0395</td>\n",
       "      <td>0.055</td>\n",
       "      <td>7</td>\n",
       "    </tr>\n",
       "    <tr>\n",
       "      <th>4</th>\n",
       "      <td>1</td>\n",
       "      <td>0.425</td>\n",
       "      <td>0.300</td>\n",
       "      <td>0.095</td>\n",
       "      <td>0.3515</td>\n",
       "      <td>0.1410</td>\n",
       "      <td>0.0775</td>\n",
       "      <td>0.120</td>\n",
       "      <td>8</td>\n",
       "    </tr>\n",
       "  </tbody>\n",
       "</table>\n",
       "</div>"
      ],
      "text/plain": [
       "   M  0.455  0.365  0.095   0.514  0.2245   0.101   0.15  15\n",
       "0  2  0.350  0.265  0.090  0.2255  0.0995  0.0485  0.070   7\n",
       "1  0  0.530  0.420  0.135  0.6770  0.2565  0.1415  0.210   9\n",
       "2  2  0.440  0.365  0.125  0.5160  0.2155  0.1140  0.155  10\n",
       "3  1  0.330  0.255  0.080  0.2050  0.0895  0.0395  0.055   7\n",
       "4  1  0.425  0.300  0.095  0.3515  0.1410  0.0775  0.120   8"
      ]
     },
     "execution_count": 83,
     "metadata": {},
     "output_type": "execute_result"
    }
   ],
   "source": [
    "data.replace(['M','F','I'],[2,0,1]).head()"
   ]
  },
  {
   "cell_type": "code",
   "execution_count": 84,
   "metadata": {
    "scrolled": true
   },
   "outputs": [
    {
     "data": {
      "text/html": [
       "<div>\n",
       "<style scoped>\n",
       "    .dataframe tbody tr th:only-of-type {\n",
       "        vertical-align: middle;\n",
       "    }\n",
       "\n",
       "    .dataframe tbody tr th {\n",
       "        vertical-align: top;\n",
       "    }\n",
       "\n",
       "    .dataframe thead th {\n",
       "        text-align: right;\n",
       "    }\n",
       "</style>\n",
       "<table border=\"1\" class=\"dataframe\">\n",
       "  <thead>\n",
       "    <tr style=\"text-align: right;\">\n",
       "      <th></th>\n",
       "      <th>M2</th>\n",
       "      <th>M1</th>\n",
       "      <th>M0</th>\n",
       "      <th>0.455</th>\n",
       "      <th>0.365</th>\n",
       "      <th>0.095</th>\n",
       "      <th>0.514</th>\n",
       "      <th>0.2245</th>\n",
       "      <th>0.101</th>\n",
       "      <th>0.15</th>\n",
       "    </tr>\n",
       "  </thead>\n",
       "  <tbody>\n",
       "    <tr>\n",
       "      <th>0</th>\n",
       "      <td>0</td>\n",
       "      <td>0</td>\n",
       "      <td>1</td>\n",
       "      <td>0.350</td>\n",
       "      <td>0.265</td>\n",
       "      <td>0.090</td>\n",
       "      <td>0.2255</td>\n",
       "      <td>0.0995</td>\n",
       "      <td>0.0485</td>\n",
       "      <td>0.070</td>\n",
       "    </tr>\n",
       "    <tr>\n",
       "      <th>1</th>\n",
       "      <td>1</td>\n",
       "      <td>0</td>\n",
       "      <td>0</td>\n",
       "      <td>0.530</td>\n",
       "      <td>0.420</td>\n",
       "      <td>0.135</td>\n",
       "      <td>0.6770</td>\n",
       "      <td>0.2565</td>\n",
       "      <td>0.1415</td>\n",
       "      <td>0.210</td>\n",
       "    </tr>\n",
       "    <tr>\n",
       "      <th>2</th>\n",
       "      <td>0</td>\n",
       "      <td>0</td>\n",
       "      <td>1</td>\n",
       "      <td>0.440</td>\n",
       "      <td>0.365</td>\n",
       "      <td>0.125</td>\n",
       "      <td>0.5160</td>\n",
       "      <td>0.2155</td>\n",
       "      <td>0.1140</td>\n",
       "      <td>0.155</td>\n",
       "    </tr>\n",
       "    <tr>\n",
       "      <th>3</th>\n",
       "      <td>0</td>\n",
       "      <td>1</td>\n",
       "      <td>0</td>\n",
       "      <td>0.330</td>\n",
       "      <td>0.255</td>\n",
       "      <td>0.080</td>\n",
       "      <td>0.2050</td>\n",
       "      <td>0.0895</td>\n",
       "      <td>0.0395</td>\n",
       "      <td>0.055</td>\n",
       "    </tr>\n",
       "    <tr>\n",
       "      <th>4</th>\n",
       "      <td>0</td>\n",
       "      <td>1</td>\n",
       "      <td>0</td>\n",
       "      <td>0.425</td>\n",
       "      <td>0.300</td>\n",
       "      <td>0.095</td>\n",
       "      <td>0.3515</td>\n",
       "      <td>0.1410</td>\n",
       "      <td>0.0775</td>\n",
       "      <td>0.120</td>\n",
       "    </tr>\n",
       "  </tbody>\n",
       "</table>\n",
       "</div>"
      ],
      "text/plain": [
       "   M2  M1  M0  0.455  0.365  0.095   0.514  0.2245   0.101   0.15\n",
       "0   0   0   1  0.350  0.265  0.090  0.2255  0.0995  0.0485  0.070\n",
       "1   1   0   0  0.530  0.420  0.135  0.6770  0.2565  0.1415  0.210\n",
       "2   0   0   1  0.440  0.365  0.125  0.5160  0.2155  0.1140  0.155\n",
       "3   0   1   0  0.330  0.255  0.080  0.2050  0.0895  0.0395  0.055\n",
       "4   0   1   0  0.425  0.300  0.095  0.3515  0.1410  0.0775  0.120"
      ]
     },
     "execution_count": 84,
     "metadata": {},
     "output_type": "execute_result"
    }
   ],
   "source": [
    "maleInds = data.index[data['M'] == 'M'].tolist()\n",
    "infInds = data.index[data['M'] == 'I'].tolist()\n",
    "fmaleInds = data.index[data['M'] == 'F'].tolist()\n",
    "\n",
    "data.insert(0,'M0',0)\n",
    "data.insert(0,'M1',0)\n",
    "data.insert(0,'M2',0)\n",
    "\n",
    "data.loc[maleInds,'M0'] = 1\n",
    "data.loc[infInds,'M1'] = 1\n",
    "data.loc[fmaleInds,'M2'] = 1\n",
    "\n",
    "data_labels = data['15']\n",
    "data = data.drop(columns = ['M','15'], axis = 1)\n",
    "data.head()"
   ]
  },
  {
   "cell_type": "markdown",
   "metadata": {},
   "source": [
    "## Partitioning training and testing data"
   ]
  },
  {
   "cell_type": "code",
   "execution_count": 85,
   "metadata": {},
   "outputs": [],
   "source": [
    "train_data = data[:int(len(data)*0.8)]\n",
    "train_labels = data_labels[:int(len(data)*0.8)]"
   ]
  },
  {
   "cell_type": "code",
   "execution_count": 86,
   "metadata": {
    "scrolled": true
   },
   "outputs": [
    {
     "name": "stdout",
     "output_type": "stream",
     "text": [
      "[0.46649925 0.46293457 0.48249653 0.12065867 0.09975317 0.04276304\n",
      " 0.49155255 0.22183472 0.10965847 0.14114667]\n"
     ]
    }
   ],
   "source": [
    "X = train_data.values\n",
    "Y = train_labels.values\n",
    "\n",
    "mean = X.mean(axis=0)\n",
    "var = np.sqrt(X.var(axis=0))\n",
    "\n",
    "print var\n",
    "X = (X - mean)/var"
   ]
  },
  {
   "cell_type": "code",
   "execution_count": 88,
   "metadata": {},
   "outputs": [],
   "source": [
    "O = np.ones(len(X))\n",
    "X = np.vstack((X.T,O)).T\n",
    "\n",
    "train_data = train_data.values\n",
    "train_data = np.vstack((train_data.T,O)).T"
   ]
  },
  {
   "cell_type": "markdown",
   "metadata": {},
   "source": [
    "## Purifying test data"
   ]
  },
  {
   "cell_type": "code",
   "execution_count": 87,
   "metadata": {},
   "outputs": [],
   "source": [
    "mean_test = test_data.mean(axis=0)\n",
    "var_test = np.sqrt(test_data.var(axis=0))\n",
    "\n",
    "test_data = (test_data - mean_test)/var_test\n",
    "\n",
    "test_data = data[int(len(data)*0.8):]\n",
    "test_data_labels = data_labels[int(len(data)*0.8):]"
   ]
  },
  {
   "cell_type": "code",
   "execution_count": 89,
   "metadata": {},
   "outputs": [],
   "source": [
    "O = np.ones(len(test_data))\n",
    "test_data = np.vstack((test_data.T,O)).T"
   ]
  },
  {
   "cell_type": "markdown",
   "metadata": {},
   "source": [
    "## Finding weights"
   ]
  },
  {
   "cell_type": "code",
   "execution_count": 139,
   "metadata": {},
   "outputs": [],
   "source": [
    "A = np.linalg.inv(np.matmul(X.T,X))\n",
    "B = np.matmul(X.T,Y)\n",
    "W = np.matmul(A,B)"
   ]
  },
  {
   "cell_type": "code",
   "execution_count": 140,
   "metadata": {},
   "outputs": [
    {
     "name": "stdout",
     "output_type": "stream",
     "text": [
      "[-4.78125    -5.15625    -4.96875    -0.21694217  1.30690708  0.3940476\n",
      "  4.52074642 -4.45934683 -1.18947951  1.28557401 10.03862275]\n"
     ]
    }
   ],
   "source": [
    "print W"
   ]
  },
  {
   "cell_type": "markdown",
   "metadata": {},
   "source": [
    "#### Check for standardization"
   ]
  },
  {
   "cell_type": "code",
   "execution_count": 141,
   "metadata": {
    "scrolled": false
   },
   "outputs": [
    {
     "name": "stdout",
     "output_type": "stream",
     "text": [
      "data variance =  [1. 1. 1. 1. 1. 1. 1. 1. 1. 1. 0.]\n",
      "\n",
      "data mean =  [-8.50949384e-18 -3.40379754e-17  7.87128180e-17 -7.65854446e-17\n",
      " -5.95664569e-16 -2.89322791e-16  1.87208865e-16  1.78699371e-16\n",
      "  1.19132914e-16  1.19132914e-16  1.00000000e+00]\n"
     ]
    }
   ],
   "source": [
    "print \"data variance = \", X.var(axis = 0)\n",
    "print\n",
    "print \"data mean = \", X.mean(axis = 0)"
   ]
  },
  {
   "cell_type": "markdown",
   "metadata": {},
   "source": [
    "# Test on training data"
   ]
  },
  {
   "cell_type": "code",
   "execution_count": 142,
   "metadata": {
    "scrolled": true
   },
   "outputs": [
    {
     "name": "stdout",
     "output_type": "stream",
     "text": [
      "3340\n",
      "\n",
      "weights =  [ 0.15778086 -0.2993829   0.13469535  0.18404594  0.79293886  0.45427169\n",
      "  0.77852508 -2.26513788 -0.35736399  2.14587319  9.735482  ]\n",
      "\n",
      "MSE on training data =  5.313366230161058\n"
     ]
    }
   ],
   "source": [
    "weights = mylinridgereg(X, Y, 104)\n",
    "T = mylinridgeregeval(X, weights)\n",
    "Td = train_labels.values\n",
    "print len(X)\n",
    "print \n",
    "print \"weights = \",weights\n",
    "print \n",
    "print \"MSE on training data = \",meansquarederr(T, Td)"
   ]
  },
  {
   "cell_type": "markdown",
   "metadata": {},
   "source": [
    "### Varying the regularization parameter"
   ]
  },
  {
   "cell_type": "code",
   "execution_count": 146,
   "metadata": {
    "scrolled": false
   },
   "outputs": [
    {
     "name": "stdout",
     "output_type": "stream",
     "text": [
      "[ 0.13204566  0.27462805  0.13582609  0.16222493  1.23957211  0.39796398\n",
      "  3.64924956  4.04703661  0.9925815   1.58029764 10.02361734]\n",
      "\n",
      "least error =  5.015093820723444\n",
      "\n",
      "the best(target) variable for the training data =  0.005005005005005003\n"
     ]
    },
    {
     "data": {
      "image/png": "[encoded data removed]",
      "text/plain": [
       "<matplotlib.figure.Figure at 0x7fabf96b25d0>"
      ]
     },
     "metadata": {},
     "output_type": "display_data"
    }
   ],
   "source": [
    "errors1 = []\n",
    "L = np.linspace(-5,5,1000)\n",
    "for i in (L):\n",
    "    weights = mylinridgereg(X, Y, i)\n",
    "    T = mylinridgeregeval(X, weights)\n",
    "    Td = train_labels.values\n",
    "    errors1.append( meansquarederr(T, Td) )\n",
    "\n",
    "plt.xlabel(\"parameter\")\n",
    "plt.ylabel(\"errors\")\n",
    "plt.legend(\"lambda v errors\")\n",
    "plt.plot(L,errors1)\n",
    "\n",
    "print np.abs(weights)\n",
    "weights = np.asarray(weights)\n",
    "\n",
    "best_variable = L[np.argmin(errors1)]\n",
    "\n",
    "print\n",
    "print \"least error = \", errors1[np.argmin(errors1)]\n",
    "print \n",
    "print 'the best(target) variable for the training data = ', best_variable"
   ]
  },
  {
   "cell_type": "markdown",
   "metadata": {},
   "source": [
    "## Test on testing data\n",
    "\n",
    "### varying the regularization parameter "
   ]
  },
  {
   "cell_type": "code",
   "execution_count": 134,
   "metadata": {
    "scrolled": true
   },
   "outputs": [
    {
     "name": "stdout",
     "output_type": "stream",
     "text": [
      "[ 1.21162609  0.5263744   1.41292271  4.68946745  3.99294111  5.19503291\n",
      "  3.95056932 10.80243412  1.7797965   6.10267257  3.15092319]\n",
      "\n",
      "least error =  3.6020507982466228\n",
      "\n",
      "the best(target) variable for the testing data =  0.0030030030030028243\n"
     ]
    },
    {
     "data": {
      "image/png": "[encoded data removed]",
      "text/plain": [
       "<matplotlib.figure.Figure at 0x7fabf938d910>"
      ]
     },
     "metadata": {},
     "output_type": "display_data"
    }
   ],
   "source": [
    "errors = []\n",
    "L = np.linspace(-5,1,1000)\n",
    "for i in ((L)):\n",
    "    weights = mylinridgereg(test_data, test_data_labels, i)\n",
    "    T = mylinridgeregeval(test_data, weights)\n",
    "    Td = test_data_labels.values\n",
    "    errors.append( meansquarederr(T, Td) )\n",
    "\n",
    "plt.xlabel(\"parameter\")\n",
    "plt.ylabel(\"errors\")\n",
    "plt.legend(\"lambda v errors\")\n",
    "plt.plot(L,errors,'o')\n",
    "\n",
    "print np.abs(weights)\n",
    "weights = np.asarray(weights)\n",
    "\n",
    "best_variable = L[np.argmin(errors)]\n",
    "\n",
    "print\n",
    "print \"least error = \", errors[np.argmin(errors)]\n",
    "print \n",
    "print 'the best(target) variable for the testing data = ', best_variable"
   ]
  },
  {
   "cell_type": "markdown",
   "metadata": {},
   "source": [
    "### removing three unimportant parameters and plotting the graph"
   ]
  },
  {
   "cell_type": "code",
   "execution_count": 135,
   "metadata": {},
   "outputs": [
    {
     "name": "stdout",
     "output_type": "stream",
     "text": [
      "[ 1.21162609  0.5263744   1.41292271  4.68946745  3.99294111  5.19503291\n",
      "  3.95056932 10.80243412  1.7797965   6.10267257  3.15092319]\n",
      "[ 1  0  2  8 10  6  4  3  5  9  7]\n"
     ]
    }
   ],
   "source": [
    "weights = np.abs(weights)\n",
    "print weights\n",
    "\n",
    "wsort = np.argsort(weights)\n",
    "print wsort\n",
    "\n",
    "significant_indexes = []\n",
    "significant_indexes.append(np.argwhere(wsort == len(wsort)-1)[0][0])\n",
    "significant_indexes.append(np.argwhere(wsort == len(wsort)-2)[0][0])\n",
    "significant_indexes.append(np.argwhere(wsort == len(wsort)-3)[0][0])\n",
    "\n",
    "L_significant_indexes = []\n",
    "L_significant_indexes.append(np.argwhere(wsort == 0)[0][0])\n",
    "L_significant_indexes.append(np.argwhere(wsort == 1)[0][0])\n",
    "L_significant_indexes.append(np.argwhere(wsort == 2)[0][0])\n"
   ]
  },
  {
   "cell_type": "code",
   "execution_count": 136,
   "metadata": {},
   "outputs": [
    {
     "name": "stdout",
     "output_type": "stream",
     "text": [
      "\n",
      "significant attributes =  [4, 9, 3]\n",
      "\n",
      "least significant attributes =  [1, 0, 2]\n"
     ]
    }
   ],
   "source": [
    "print \n",
    "print \"significant attributes = \", significant_indexes\n",
    "print\n",
    "print \"least significant attributes = \", L_significant_indexes"
   ]
  },
  {
   "cell_type": "markdown",
   "metadata": {},
   "source": [
    "## Plotting error curves after removing three insignificant attributes"
   ]
  },
  {
   "cell_type": "code",
   "execution_count": 158,
   "metadata": {
    "scrolled": true
   },
   "outputs": [
    {
     "name": "stdout",
     "output_type": "stream",
     "text": [
      "[ 0.27046064  1.45198405  0.44552674  3.78104065  4.15383568  0.91130904\n",
      "  1.55870795 10.02361734]\n",
      "\n",
      "least error =  5.015093820723444\n",
      "\n",
      "the best(target) variable for the training data =  0.005005005005005003\n"
     ]
    },
    {
     "data": {
      "image/png": "[encoded data removed]",
      "text/plain": [
       "<matplotlib.figure.Figure at 0x7fabf9aa9810>"
      ]
     },
     "metadata": {},
     "output_type": "display_data"
    }
   ],
   "source": [
    "tempX = np.delete(X,L_significant_indexes,1)\n",
    "errors = []\n",
    "L = np.linspace(-5,5,1000)\n",
    "\n",
    "for i in (L):\n",
    "    weights = mylinridgereg(tempX, Y, i)\n",
    "    T = mylinridgeregeval(tempX, weights)\n",
    "    Td = train_labels.values\n",
    "    errors.append( meansquarederr(T, Td) )\n",
    "\n",
    "plt.xlabel(\"parameter\")\n",
    "plt.ylabel(\"errors\")\n",
    "plt.legend(\"lambda v errors\")\n",
    "plt.plot(L,errors,label = 'first')\n",
    "plt.plot(L,errors1, label = 'second')\n",
    "\n",
    "print np.abs(weights)\n",
    "weights = np.asarray(weights)\n",
    "\n",
    "best_variable = L[np.argmin(errors)]\n",
    "\n",
    "print\n",
    "print \"least error = \", errors1[np.argmin(errors)]\n",
    "print \n",
    "print 'the best(target) variable for the training data = ', best_variable"
   ]
  },
  {
   "cell_type": "markdown",
   "metadata": {},
   "source": [
    "The error curve remained almost the same but the curve shifted slightly upward\n",
    "\n",
    "meaning the total error increased by a little insignificant margin"
   ]
  },
  {
   "cell_type": "markdown",
   "metadata": {},
   "source": [
    "\n",
    "\n",
    "\n",
    "\n",
    "# Partitioning the data"
   ]
  },
  {
   "cell_type": "code",
   "execution_count": 213,
   "metadata": {
    "scrolled": true
   },
   "outputs": [
    {
     "name": "stdout",
     "output_type": "stream",
     "text": [
      "[0.05  0.275 0.5   0.725 0.95 ]\n",
      "\n",
      "partition =  0.05\n"
     ]
    },
    {
     "name": "stderr",
     "output_type": "stream",
     "text": [
      "/home/saurav/.local/lib/python2.7/site-packages/ipykernel_launcher.py:35: RuntimeWarning: invalid value encountered in divide\n"
     ]
    },
    {
     "data": {
      "image/png": "[encoded data removed]",
      "text/plain": [
       "<matplotlib.figure.Figure at 0x7fabf922fd50>"
      ]
     },
     "metadata": {},
     "output_type": "display_data"
    },
    {
     "name": "stdout",
     "output_type": "stream",
     "text": [
      "\n",
      "partition =  0.27499999999999997\n"
     ]
    },
    {
     "data": {
      "image/png": "[encoded data removed]",
      "text/plain": [
       "<matplotlib.figure.Figure at 0x7fabf926be50>"
      ]
     },
     "metadata": {},
     "output_type": "display_data"
    },
    {
     "name": "stdout",
     "output_type": "stream",
     "text": [
      "\n",
      "partition =  0.49999999999999994\n"
     ]
    },
    {
     "data": {
      "image/png": "[encoded data removed]",
      "text/plain": [
       "<matplotlib.figure.Figure at 0x7fabf9396910>"
      ]
     },
     "metadata": {},
     "output_type": "display_data"
    },
    {
     "name": "stdout",
     "output_type": "stream",
     "text": [
      "\n",
      "partition =  0.725\n"
     ]
    },
    {
     "data": {
      "image/png": "[encoded data removed]",
      "text/plain": [
       "<matplotlib.figure.Figure at 0x7fabf9a446d0>"
      ]
     },
     "metadata": {},
     "output_type": "display_data"
    },
    {
     "name": "stdout",
     "output_type": "stream",
     "text": [
      "\n",
      "partition =  0.95\n"
     ]
    },
    {
     "data": {
      "image/png": "[encoded data removed]",
      "text/plain": [
       "<matplotlib.figure.Figure at 0x7fabf9a440d0>"
      ]
     },
     "metadata": {},
     "output_type": "display_data"
    }
   ],
   "source": [
    "partitions = np.linspace(0.05,0.95,5)\n",
    "print partitions\n",
    "\n",
    "L = np.linspace(-5,5,25)\n",
    "best_train_error = []\n",
    "best_test_error = []\n",
    "best_parameters_train = []\n",
    "best_parameters_test = []\n",
    "\n",
    "for pt in partitions:\n",
    "    \n",
    "    print ###################################\n",
    "    print \"partition = \", pt\n",
    "    train_data = data[:int(len(data)*pt)]\n",
    "    train_labels = data_labels[:int(len(data)*pt)]\n",
    "\n",
    "    X = train_data.values\n",
    "    Y = train_labels.values\n",
    "\n",
    "    mean = X.mean(axis=0)\n",
    "    var = np.sqrt(X.var(axis=0))\n",
    "    X = (X - mean)/var\n",
    "\n",
    "    O = np.ones(len(X))\n",
    "    X = np.vstack((X.T,O)).T\n",
    "\n",
    "    train_data = train_data.values\n",
    "    train_data = np.vstack((train_data.T,O)).T\n",
    "\n",
    "    mean_test = test_data.mean(axis=0)\n",
    "    var_test = np.sqrt(test_data.var(axis=0))\n",
    "\n",
    "    test_data = (test_data - mean_test)/var_test\n",
    "\n",
    "    test_data = data[int(len(data)*pt):]\n",
    "    test_data_labels = data_labels[int(len(data)*pt):]\n",
    "\n",
    "    O = np.ones(len(test_data))\n",
    "    test_data = np.vstack((test_data.T,O)).T\n",
    "\n",
    "    #%%%%%%%%%%%%%%%%%%%%%%%%%%%%%%%%%%%%%%%%%%%%%%%%%%%%%%%%%%%%%%%%%%%%%%%%%%%%%%%%%%%%%%%%%%%%%%%\n",
    "    #%%    Training data\n",
    "    #%%%%%%%%%%%%%%%%%%%%%%%%%%%%%%%%%%%%%%%%%%%%%%%%%%%%%%%%%%%%%%%%%%%%%%%%%%%%%%%%%%%%%%%%%%%%%%%\n",
    "\n",
    "    errors1 = []\n",
    "    for i in (L):\n",
    "        weights = mylinridgereg(X, Y, i)\n",
    "        T = mylinridgeregeval(X, weights)\n",
    "        Td = train_labels.values\n",
    "        errors1.append( meansquarederr(T, Td) )\n",
    "\n",
    "    weights = np.asarray(weights)\n",
    "\n",
    "    best_variable = L[np.argmin(errors1)]\n",
    "    best_train_error.append(errors1[np.argmin(errors1)])\n",
    "    best_parameters_train.append(L[np.argmin(errors1)])\n",
    "    \n",
    "    #%%%%%%%%%%%%%%%%%%%%%%%%%%%%%%%%%%%%%%%%%%%%%%%%%%%%%%%%%%%%%%%%%%%%%%%%%%%%%%%%%%%%%%%%%%%%%%%\n",
    "    #%%    Testing data\n",
    "    #%%%%%%%%%%%%%%%%%%%%%%%%%%%%%%%%%%%%%%%%%%%%%%%%%%%%%%%%%%%%%%%%%%%%%%%%%%%%%%%%%%%%%%%%%%%%%%%\n",
    "\n",
    "    errors = []\n",
    "    for i in ((L)):\n",
    "        weights = mylinridgereg(X, Y, i)\n",
    "        T = mylinridgeregeval(test_data, weights)\n",
    "        Td = test_data_labels.values\n",
    "        errors.append( meansquarederr(T, Td) )\n",
    "\n",
    "    plt.xlabel(\"parameter\")\n",
    "    plt.ylabel(\"errors\")\n",
    "    plt.grid\n",
    "    plt.legend(\"lambda v errors\")\n",
    "    plt.plot(L,errors1, label = \"train errors\")\n",
    "    plt.plot(L,errors, label = \"test errors\")\n",
    "    plt.show()\n",
    "    \n",
    "    weights = np.asarray(weights)\n",
    "\n",
    "    best_variable = L[np.argmin(errors)]\n",
    "    best_test_error.append(errors[np.argmin(errors)])\n",
    "    best_parameters_test.append(errors[np.argmin(errors)])\n",
    "\n"
   ]
  },
  {
   "cell_type": "markdown",
   "metadata": {},
   "source": [
    "## minimum errors v partition graphs"
   ]
  },
  {
   "cell_type": "code",
   "execution_count": 214,
   "metadata": {},
   "outputs": [
    {
     "data": {
      "image/png": "[encoded data removed]",
      "text/plain": [
       "<matplotlib.figure.Figure at 0x7fabf93b6090>"
      ]
     },
     "metadata": {},
     "output_type": "display_data"
    },
    {
     "data": {
      "text/plain": [
       "[<matplotlib.lines.Line2D at 0x7fabf9212810>]"
      ]
     },
     "execution_count": 214,
     "metadata": {},
     "output_type": "execute_result"
    },
    {
     "data": {
      "image/png": "[encoded data removed]",
      "text/plain": [
       "<matplotlib.figure.Figure at 0x7fabf983eed0>"
      ]
     },
     "metadata": {},
     "output_type": "display_data"
    }
   ],
   "source": [
    "plt.xlabel(\"partition fraction\")\n",
    "plt.ylabel(\"minimum error\")\n",
    "plt.plot(partitions, best_train_error, label = \"train error\")\n",
    "plt.plot(partitions, best_test_error, label = \"test error\")\n",
    "plt.show()\n",
    "\n",
    "plt.plot(best_parameters_test, partitions)"
   ]
  },
  {
   "cell_type": "code",
   "execution_count": 215,
   "metadata": {},
   "outputs": [],
   "source": [
    "sum_errors = best_train_error + best_test_error\n",
    "best_parameter = best_parameters_train[np.argmin(best_train_error)]\n",
    "best_partition = partitions[np.argmin(best_train_error)]"
   ]
  },
  {
   "cell_type": "code",
   "execution_count": 216,
   "metadata": {
    "scrolled": true
   },
   "outputs": [
    {
     "name": "stdout",
     "output_type": "stream",
     "text": [
      "best parameter =  0.41666666666666696\n",
      "best partition =  0.05\n"
     ]
    },
    {
     "name": "stderr",
     "output_type": "stream",
     "text": [
      "/home/saurav/.local/lib/python2.7/site-packages/ipykernel_launcher.py:27: RuntimeWarning: invalid value encountered in divide\n"
     ]
    },
    {
     "data": {
      "text/plain": [
       "[]"
      ]
     },
     "execution_count": 216,
     "metadata": {},
     "output_type": "execute_result"
    },
    {
     "data": {
      "image/png": "[encoded data removed]",
      "text/plain": [
       "<matplotlib.figure.Figure at 0x7fabf9668150>"
      ]
     },
     "metadata": {},
     "output_type": "display_data"
    }
   ],
   "source": [
    "print \"best parameter = \", best_parameter\n",
    "print \"best partition = \", best_partition\n",
    "\n",
    "\n",
    "train_data = data[:int(len(data)*best_partition)]\n",
    "train_labels = data_labels[:int(len(data)*best_partition)]\n",
    "\n",
    "X = train_data.values\n",
    "Y = train_labels.values\n",
    "\n",
    "mean = X.mean(axis=0)\n",
    "var = np.sqrt(X.var(axis=0))\n",
    "\n",
    "#     print var\n",
    "X = (X - mean)/var\n",
    "\n",
    "O = np.ones(len(X))\n",
    "X = np.vstack((X.T,O)).T\n",
    "\n",
    "train_data = train_data.values\n",
    "train_data = np.vstack((train_data.T,O)).T\n",
    "\n",
    "mean_test = test_data.mean(axis=0)\n",
    "var_test = np.sqrt(test_data.var(axis=0))\n",
    "\n",
    "test_data = (test_data - mean_test)/var_test\n",
    "\n",
    "test_data = data[int(len(data)*best_partition):]\n",
    "test_data_labels = data_labels[int(len(data)*best_partition):]\n",
    "\n",
    "O = np.ones(len(test_data))\n",
    "test_data = np.vstack((test_data.T,O)).T\n",
    "\n",
    "\n",
    "errors1 = []\n",
    "for i in (L):\n",
    "    weights = mylinridgereg(X, Y, i)\n",
    "    T = mylinridgeregeval(X, weights)\n",
    "    Td = train_labels.values\n",
    "plt.legend(\"training data\")\n",
    "plt.plot(T,Td, 'o')\n",
    "\n",
    "for i in ((L)):\n",
    "    weights = mylinridgereg(X, Y, i)\n",
    "    T = mylinridgeregeval(test_data, weights)\n",
    "    Td = test_data_labels.values\n",
    "#     errors.append( meansquarederr(T, Td) )\n",
    "plt.plot()\n"
   ]
  },
  {
   "cell_type": "markdown",
   "metadata": {},
   "source": [
    "the plot can be seen above\n",
    "\n",
    "they all seem to be plotting to a line which is nearly at 45 degrees to the axes"
   ]
  }
 ],
 "metadata": {
  "kernelspec": {
   "display_name": "Python 2",
   "language": "python",
   "name": "python2"
  },
  "language_info": {
   "codemirror_mode": {
    "name": "ipython",
    "version": 2
   },
   "file_extension": ".py",
   "mimetype": "text/x-python",
   "name": "python",
   "nbconvert_exporter": "python",
   "pygments_lexer": "ipython2",
   "version": "2.7.12"
  }
 },
 "nbformat": 4,
 "nbformat_minor": 2
}

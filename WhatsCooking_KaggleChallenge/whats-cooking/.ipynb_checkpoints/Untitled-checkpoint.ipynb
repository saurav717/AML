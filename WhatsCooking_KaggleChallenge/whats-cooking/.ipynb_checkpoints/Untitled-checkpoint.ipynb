{
 "cells": [
  {
   "cell_type": "code",
   "execution_count": 103,
   "metadata": {},
   "outputs": [
    {
     "name": "stdout",
     "output_type": "stream",
     "text": [
      "[[u'greek' 10259\n",
      "  list([u'romaine lettuce', u'black olives', u'grape tomatoes', u'garlic', u'pepper', u'purple onion', u'seasoning', u'garbanzo beans', u'feta cheese crumbles'])\n",
      "  u'romaine lettuce,black olives,grape tomatoes,garlic,pepper,purple onion,seasoning,garbanzo beans,feta cheese crumbles']\n",
      " [u'southern_us' 25693\n",
      "  list([u'plain flour', u'ground pepper', u'salt', u'tomatoes', u'ground black pepper', u'thyme', u'eggs', u'green tomatoes', u'yellow corn meal', u'milk', u'vegetable oil'])\n",
      "  u'plain flour,ground pepper,salt,tomatoes,ground black pepper,thyme,eggs,green tomatoes,yellow corn meal,milk,vegetable oil']\n",
      " [u'filipino' 20130\n",
      "  list([u'eggs', u'pepper', u'salt', u'mayonaise', u'cooking oil', u'green chilies', u'grilled chicken breasts', u'garlic powder', u'yellow onion', u'soy sauce', u'butter', u'chicken livers'])\n",
      "  u'eggs,pepper,salt,mayonaise,cooking oil,green chilies,grilled chicken breasts,garlic powder,yellow onion,soy sauce,butter,chicken livers']\n",
      " ...\n",
      " [u'irish' 2238\n",
      "  list([u'eggs', u'citrus fruit', u'raisins', u'sourdough starter', u'flour', u'hot tea', u'sugar', u'ground nutmeg', u'salt', u'ground cinnamon', u'milk', u'butter'])\n",
      "  u'eggs,citrus fruit,raisins,sourdough starter,flour,hot tea,sugar,ground nutmeg,salt,ground cinnamon,milk,butter']\n",
      " [u'chinese' 41882\n",
      "  list([u'boneless chicken skinless thigh', u'minced garlic', u'steamed white rice', u'baking powder', u'corn starch', u'dark soy sauce', u'kosher salt', u'peanuts', u'flour', u'scallions', u'Chinese rice vinegar', u'vodka', u'fresh ginger', u'egg whites', u'broccoli', u'toasted sesame seeds', u'sugar', u'store bought low sodium chicken stock', u'baking soda', u'Shaoxing wine', u'oil'])\n",
      "  u'boneless chicken skinless thigh,minced garlic,steamed white rice,baking powder,corn starch,dark soy sauce,kosher salt,peanuts,flour,scallions,Chinese rice vinegar,vodka,fresh ginger,egg whites,broccoli,toasted sesame seeds,sugar,store bought low sodium chicken stock,baking soda,Shaoxing wine,oil']\n",
      " [u'mexican' 2362\n",
      "  list([u'green chile', u'jalapeno chilies', u'onions', u'ground black pepper', u'salt', u'chopped cilantro fresh', u'green bell pepper', u'garlic', u'white sugar', u'roma tomatoes', u'celery', u'dried oregano'])\n",
      "  u'green chile,jalapeno chilies,onions,ground black pepper,salt,chopped cilantro fresh,green bell pepper,garlic,white sugar,roma tomatoes,celery,dried oregano']]\n"
     ]
    }
   ],
   "source": [
    "\n",
    "\n",
    "import numpy as np \n",
    "import pandas as pd\n",
    "import json\n",
    " \n",
    "\n",
    "data_training = pd.read_json('train.json')\n",
    "\n",
    "# print \"data\" , data_training\n",
    "\n",
    "cuisines =  data_training['cuisine'].unique()\n",
    "\n",
    "data_training['all_ingredients'] = data_training['ingredients'].map(\",\".join)\n",
    "\n",
    "ingredients = data_training.values\n",
    "\n",
    "print ingredients\n",
    "\n"
   ]
  },
  {
   "cell_type": "code",
   "execution_count": 67,
   "metadata": {},
   "outputs": [
    {
     "name": "stdout",
     "output_type": "stream",
     "text": [
      "6714\n"
     ]
    }
   ],
   "source": [
    "\n",
    "ingriSet = set()\n",
    "for x in ingredients:\n",
    "    for z in x[2]:\n",
    "        ingriSet.add(z)\n",
    "print len(ingriSet)"
   ]
  },
  {
   "cell_type": "code",
   "execution_count": 69,
   "metadata": {},
   "outputs": [
    {
     "name": "stdout",
     "output_type": "stream",
     "text": [
      "20\n"
     ]
    }
   ],
   "source": [
    "print len(cuisines)"
   ]
  },
  {
   "cell_type": "code",
   "execution_count": 73,
   "metadata": {},
   "outputs": [
    {
     "name": "stdout",
     "output_type": "stream",
     "text": [
      "low-sodium fat-free chicken broth\n"
     ]
    }
   ],
   "source": [
    "ingriSet = list(ingriSet)\n",
    "print ingriSet[0]\n"
   ]
  },
  {
   "cell_type": "code",
   "execution_count": 56,
   "metadata": {},
   "outputs": [
    {
     "name": "stdout",
     "output_type": "stream",
     "text": [
      "6714\n"
     ]
    }
   ],
   "source": [
    "\n",
    "print len(ingriSet)"
   ]
  },
  {
   "cell_type": "code",
   "execution_count": 9,
   "metadata": {},
   "outputs": [],
   "source": [
    "from collections import Counter\n",
    "\n",
    "counters = {}\n",
    "for cuisine in data_training['cuisine'].unique():\n",
    "    counters[cuisine] = Counter()\n",
    "    indices = (data_training['cuisine'] == cuisine)\n",
    "    for ingredients in data_training[indices]['ingredients']:\n",
    "        counters[cuisine].update(ingredients)\n",
    "\n"
   ]
  },
  {
   "cell_type": "code",
   "execution_count": 97,
   "metadata": {},
   "outputs": [
    {
     "name": "stdout",
     "output_type": "stream",
     "text": [
      "True\n",
      "[u'lamb stew meat', u'mixed nuts', u'California bay leaves', u'halibut steak', u'dijon mustard', u'deli ham', u'orzo pasta', u'macadamia nuts', u'bell pepper', u'extra large eggs', u'fenugreek seeds', u'green pepper', u'honey-flavored greek style yogurt', u'low-fat plain greek yogurt', u'ground cardamom', u'summer squash', u'milk', u'Italian bread', u'herbes de provence', u'Swerve Sweetener', u'minced onion', u'lamb rib roast', u'grated orange', u'fusilli', u'egg yolks', u'onion powder', u'bread ciabatta', u'cayenne pepper', u'pancetta', u'vegetable broth', u'fresh leav spinach', u'mozzarella cheese', u'couscous', u'lowfat plain greekstyl yogurt', u'white bread', u'blanched almonds', u'extra sharp cheddar cheese', u'melted butter', u'chopped fresh chives', u'boneless, skinless chicken breast', u'rocket leaves', u'vanilla extract', u'salt pork', u'Knorr\\xae Vegetable recipe mix', u'fat', u'littleneck clams', u'(10 oz.) frozen chopped spinach, thawed and squeezed dry', u'marinara sauce', u'farro', u'manouri', u'boiling water', u'condensed cream of chicken soup', u'vegetable oil spray', u'fresh cheese', u'tangerine juice', u'tortillas', u'salad', u'asparagus', u'jalapeno chilies', u'lamb chops', u'manchego cheese', u'fennel', u'olive oil cooking spray', u'giant white beans', u'prosciutto', u'sweet potatoes', u'sundried tomato pesto', u'Wish-Bone Italian Dressing', u'great northern beans', u'saffron threads', u'hot red pepper flakes', u'vanilla', u'orzo', u'fatfree lowsodium chicken broth', u'pork', u'lamb loin', u'grape vine leaves', u'seasoning', u'superfine sugar', u'rose water', u'freshly grated parmesan', u'lavender', u'havarti cheese', u'low sodium soy sauce', u'frisee', u'ground round', u'marinade', u'caster sugar', u'chopped fresh thyme', u'spaghetti', u'roasting chickens', u'chilegarlic sauce', u'elbow pasta', u'bay leaves', u'yogurt low fat', u'fresh tarragon', u'ouzo', u'white wine', u'rub', u'applesauce', u'orange blossom honey', u'parsley sprigs', u'croutons', u'italian tomatoes', u'cocoa powder', u'part-skim mozzarella cheese', u'peppercorns', u'beau monde seasoning', u'kefalotyri', u'mussels', u'kalamata', u'roasted garlic', u'water', u'French bread loaves', u'quick-cooking oats', u'banana peppers', u'rotini', u'green bell pepper', u'low-fat plain yogurt', u'orange bell pepper', u'fillet red snapper', u'skim milk', u'vinegar', u'long grain white rice', u'extra fine granulated sugar', u'sliced fresh fruit', u'asian eggplants', u'ground cayenne pepper', u'dried apple rings', u'dates', u'active dry yeast', u'all purpose unbleached flour', u'fresh lemon', u'cooked chicken', u'chili sauce', u'grated parmesan cheese', u'cinnamon', u'tomato paste', u'homemade chicken stock', u'fresh red chili', u'sea salt', u'diced bell pepper', u'vegetable oil', u'italian salad dressing', u'Cavenders Greek Seasoning', u'butter cooking spray', u'elbow macaroni', u'fresh oregano', u'field lettuce', u'canned low sodium chicken broth', u'lima beans', u'feta cheese crumbles', u'corn oil', u'flounder fillets', u'powdered gelatin', u'bread dough', u'boneless skinless chicken breast halves', u'lamb steaks', u'lime', u'white sandwich bread', u\"hellmann' or best food real mayonnais\", u'hearts of palm', u'prepared pizza crust', u'brown rice', u'fresh basil leaves', u'pears', u'berries', u'cooked quinoa', u'chicken thighs', u'sweet onion', u'baked pita chips', u'yellow peppers', u'bouillon granules', u'sweetened coconut flakes', u'yoghurt', u'fresh coriander', u'yellow split peas', u'2% low-fat cottage cheese', u'squid', u'lamb shanks', u'leg of lamb', u'green peas', u'water chestnuts', u'fresh spinach leaves, rins and pat dry', u'pasta', u'scallions', u'curly parsley', u'dried mixed herbs', u'sugar pea', u'dill tips', u'sub buns', u'roast turkey', u'spearmint', u'garlic powder', u'granulated sugar', u'pizza doughs', u'chardonnay', u\"hellmann' or best food light mayonnais\", u'fresh orange juice', u'double-acting baking powder', u'chicken leg quarters', u'low-fat feta', u'alfalfa sprouts', u'Hidden Valley\\xae Greek Yogurt Original Ranch\\xae Dip Mix', u'mahlab', u'liqueur', u'dried currants', u'fresh spinach', u'crackers', u'baby spinach leaves', u'pasta sauce', u'kosher salt', u'plain breadcrumbs', u'ground nutmeg', u'nonfat ricotta cheese', u'smoked paprika', u'mayonaise', u'frozen blueberries', u'pork tenderloin', u'dried rosemary', u'borage', u'small red potato', u'cooked chicken breasts', u'butter beans', u'honey', u'peperoncini', u'tilapia fillets', u'green beans', u'all potato purpos', u'mahimahi fillet', u'low-fat caesar dressing', u'onions', u'dried lentils', u'lamb', u'harissa', u'creole seasoning', u'fresh tomatoes', u'italian plum tomatoes', u'rib', u'large shrimp', u'yeast', u'parsley leaves', u'romaine lettuce leaves', u'french baguette', u'merlot', u'pizza crust', u'sliced black olives', u'fat free milk', u'vegetable stock', u'medjool date', u'boneless skinless chicken breasts', u'fresh rosemary', u'unsalted butter', u'parsnips', u'lamb shoulder', u'balsamic vinaigrette', u'processed cheese', u'light sour cream', u'canola mayonnaise', u'roast red peppers, drain', u'fresh marjoram', u'ground caraway', u'natural pistachios', u'plain low fat greek yogurt', u'non-fat sour cream', u'green cabbage', u'black pepper', u'yellow mustard', u'roasted pistachios', u'lean minced beef', u'mushrooms', u'bread slices', u'phyllo pastry', u'almond extract', u'liquid', u'garlic salt', u'pumpkin pur\\xe9e', u'frozen green beans', u'fronds', u'fingerling potatoes', u'candied cherries', u'tentacles', u'beef stock', u'ground white pepper', u'tahini', u'ground walnuts', u'diced tomatoes', u'fresh parmesan cheese', u'boneless chicken cutlet', u'light brown sugar', u'crushed red pepper flakes', u'vegetable oil cooking spray', u'octopuses', u'nuts', u'red leaf lettuce', u'wild rice', u'whole wheat pita bread rounds', u'farina', u'cheese cubes', u'spices', u'chicken bouillon', u'dough', u'pitted date', u'chicken bouillon granules', u'flat leaf parsley', u'lean ground meat', u'persian cucumber', u'dried dillweed', u'frozen shelled edamame', u'plain yogurt', u'celery seed', u'baguette', u'fresh parsley leaves', u'red cabbage', u'fat-free chicken broth', u'Cholula Hot Sauce', u'boneless skinless chicken thigh fillets', u'apricots', u'long-grain rice', u'dillweed', u'rosemary sprigs', u'avocado', u'dried minced onion', u'skinless chicken thighs', u'brown shrimp', u'chopped green bell pepper', u'bows', u'golden raisins', u'kirby cucumbers', u'low salt chicken broth', u'cold water', u'orange', u'ricotta', u'pesto', u'fresh parsley', u'lemon pepper seasoning', u'whole cloves', u'coffee', u'red bell pepper', u'ground red pepper', u'pecans', u'blackberries', u'beefsteak tomatoes', u'flour', u'green olives', u'instant yeast', u'pickled beets', u'fennel bulb', u'greek style plain yogurt', u'powdered sugar', u'canned chicken broth', u'farmer cheese', u'cardamom seeds', u'crushed garlic', u'rapid rise yeast', u'finely chopped onion', u'spanish onion', u'bread', u'coriander', u'chopped onion', u'plain flour', u'meat', u'thyme', u'green leaf lettuce', u'potatoes', u'sliced mushrooms', u'dried fig', u'sliced almonds', u'unsalted chicken stock', u'mini chocolate chips', u'roast', u'navy beans', u'dandelion greens', u'russet potatoes', u'cracked black pepper', u'baby lima beans', u'clams', u'frozen mango', u'allspice', u'lime zest', u'dry white wine', u'sunflower kernels', u'cooking spray', u'monkfish fillets', u\"Uncle Ben's Original Converted Brand rice\", u'escarole', u'fettuccine pasta', u'shredded Monterey Jack cheese', u'minced meat', u'thin pizza crust', u'lentils', u'dried dill', u'chicken stock', u'ricotta cheese', u'challa', u'toasted pine nuts', u'lean ground beef', u'heavy cream', u'hard-boiled egg', u'caul fat', u'rib eye steaks', u'ricotta salata', u'pomegranate seeds', u'linguine', u'agave nectar', u'bread crumb fresh', u'whole wheat pasta', u'mini phyllo dough shells', u'cooked shrimp', u'coconut oil', u'chiles', u'cumin seed', u'low-fat yogurt', u'walnuts', u'pita wedges', u'pita wraps', u'boneless chicken breast halves', u'base', u'sweet pepper', u'grapes', u'serrano', u'anchovy fillets', u'calamata olives', u'mullet', u'dry yeast', u'tomato juice', u'pitted olives', u'beef bouillon powder', u'japanese eggplants', u'lemon pepper', u'spanish paprika', u'chopped garlic', u'lemon zest', u'clam juice', u'pickling spices', u'bulgur wheat', u'orange zest', u'cucumber', u'crumbled goat cheese', u'clementines', u'organic milk', u'cheese', u'ground almonds', u'toasted almonds', u'slivered almonds', u'malt vinegar', u'zinfandel', u'large egg yolks', u'lettuce', u'tzatziki', u'mixed greens', u'cherry tomatoes', u'ground beef', u'garlic puree', u'prepared horseradish', u'canned tomatoes', u'green onions', u'golden zucchini', u'vinaigrette dressing', u'nonfat buttermilk', u'frozen peas', u'large garlic cloves', u'medium shrimp', u'Greek feta', u'chopped nuts', u'french bread', u'sour cherries', u'burger buns', u'penne pasta', u'egg noodles', u'halloumi cheese', u'picholine olives', u'fresh thyme leaves', u'syrup', u'dried porcini mushrooms', u'ketchup', u'grated carrot', u'ground bison', u'ground cloves', u'Italian seasoned breadcrumbs', u'fresh chevre', u'clove garlic, fine chop', u'fresh dill', u'white sugar', u'snappers', u'salt and ground black pepper', u'shelled pistachios', u'chicken breast tenders', u'thyme sprigs', u'angel hair', u'ground chuck', u'red pepper flakes', u'nonfat yogurt', u'tortellini', u'pitted black olives', u'lamb fillet', u'beet greens', u'creamy peanut butter', u'grape leaves', u'apples', u'pistachios', u'boneless chicken breast', u'currant', u'plain low-fat yogurt', u'black lentil', u'center cut loin pork chop', u'hot pepper sauce', u'green lentil', u'whole milk', u'grated kefalotiri', u'yellow bell pepper', u'star anise', u'olive oil spray', u'boneless lamb', u'orange flower water', u'free range egg', u'mango juice', u'carrots', u'fillets', u'ginger', u'ammonium bicarbonate', u'juice', u'lemon juice', u'pastry', u'dried parsley', u'apple cider vinegar', u'roma tomatoes', u'coarse kosher salt', u'mint', u'vine leaves', u'clove', u'pizza shells', u'baby arugula', u'nonfat greek yogurt', u'chicken legs', u'red pepper', u'cream cheese, soften', u'bow-tie pasta', u'prawns', u'grill seasoning', u'artichoke hearts', u'fresh mint', u'semolina flour', u'cremini mushrooms', u'turkey breast', u'raisins', u'zucchini', u'strong white bread flour', u'frozen chopped spinach, thawed and squeezed dry', u'halibut', u'flank steak', u'whole wheat pita pockets', u'eggs', u'Lipton\\xae Recipe Secrets\\xae Onion Soup Mix', u'frozen mixed berries', u'orange peel', u'whole wheat pita', u'crumbled blue cheese', u'shallots', u'dried thyme', u'reduced fat milk', u'sliced chicken', u'watercress', u'chicken meat', u'juniper berries', u'cilantro sprigs', u'poblano chiles', u'Balsamico Bianco', u'plain whole-milk yogurt', u'ripe olives', u'pecorino romano cheese', u'red chili peppers', u'crushed red pepper', u'button mushrooms', u'ground blanched almonds', u'lemon slices', u'light cream cheese', u'gaeta olives', u'radicchio', u'wine', u'salt', u'pimento stuffed olives', u'ground ginger', u'hearts of romaine', u'tomatoes with juice', u'greek seasoning', u'worcestershire sauce', u'semi-sweet chocolate morsels', u'sage', u'parsley flakes', u'roasted hazelnuts', u'new york strip steaks', u'tarama', u'brine', u'portabello mushroom', u'chicken', u'calamari', u'bananas', u'dried chickpeas', u'filo dough', u'safflower oil', u'frozen basil', u'diced red onions', u'boneless skinless chicken', u'reduced sodium chicken broth', u'grated orange peel', u'flat leaf spinach', u'sugar', u'celery', u'vine tomatoes', u'beef bouillon', u'romano cheese', u'chickpeas', u'rice', u'plums', u'Meyer lemon juice', u'plain dry bread crumb', u'white chocolate chips', u'Homemade Yogurt', u'dried leaves oregano', u'cooked bacon', u'sliced cucumber', u'brine-cured olives', u'yellow crookneck squash', u'goat cheese', u'chocolate syrup', u'dry red wine', u'swiss chard', u'tempeh', u'red wine', u'dri oregano leaves, crush', u'red grape', u'pickled vegetables', u'chicken-flavored soup powder', u'seasoned bread crumbs', u'crushed tomatoes', u'bottled clam juice', u'organic vegetable broth', u'greek style seasoning', u'bone in skin on chicken thigh', u'Mazola Canola Oil', u'boneless chicken skinless thigh', u'fresh thyme', u'cumin', u'graham crackers', u'walnut halves', u'bacon', u'nutmeg', u'low-fat white sauce', u'roasted tomatoes', u'european cucumber', u'pumpkin', u'bread crumbs', u'sour cream', u'lamb stock', u'flavored oil', u'shank half', u'jumbo shrimp', u'reduced fat reduced sodium cream of mushroom soup', u'pickle relish', u'organic chicken', u'pink peppercorns', u'salmon fillets', u'pepperoni turkei', u'bulgur', u'Greek dressing', u'fresh green peas', u'liquid honey', u'fat skimmed chicken broth', u'fat free greek yogurt', u'lamb loin chops', u'noodles', u'glaze', u'pointed peppers', u'chicken breasts', u'veal shanks', u'whole wheat breadcrumbs', u'white vinegar', u'chili powder', u'baby zucchini', u'ground sirloin', u'dried oregano', u'brown lentils', u'tart shells', u'spinach', u'dried sage', u'dried apricot', u'bibb lettuce', u'fresh fava bean', u'celery stick', u'whole peeled tomatoes', u'firmly packed brown sugar', u'dried mint flakes', u'vine ripened tomatoes', u'edamame', u'anchovy paste', u'chili pepper', u'ranch dressing', u'pastry flour', u'cauliflower', u'calimyrna figs', u'extra lean ground beef', u'lemon wedge', u'medium shrimp uncook', u'roe', u'spinach leaves', u'whole wheat rotini pasta', u'reduced fat mayonnaise', u'dry vermouth', u'white wine vinegar', u'shell pasta', u'feta cheese', u'frozen edamame beans', u'mahimahi', u'broccoli', u'pita chips', u'mustard seeds', u'minced beef', u'1% low-fat milk', u'dill weed', u'beef stock cubes', u'leaf parsley', u'crumbled gorgonzola', u'toasted wheat germ', u'ground coriander', u'caramel topping', u'cheese spread', u'fennel seeds', u'garbanzo beans', u'instant rice', u'hummus', u'cake flour', u'extra-virgin olive oil', u'cod', u'eggplant', u'coarse salt', u'free-range eggs', u'low-fat cottage cheese', u'refrigerated pizza dough', u'liquid smoke', u'olive oil', u'marjoram', u'bay leaf', u'cooked rice', u'large eggs', u'chicken pieces', u'whole wheat pita bread', u'pimentos', u'chicken drumsticks', u'mint leaves', u'arugula', u'lamb leg', u'cod fillets', u'onion flakes', u'raita', u'skinless chicken pieces', u'oregano', u'hot cherry pepper', u'whole wheat penne pasta', u'fresh bay leaves', u'whole wheat hamburger buns', u'lemon rind', u'purple onion', u'chicken breast halves', u'ground paprika', u'turkey', u'white pepper', u'olives', u'unsweetened cocoa powder', u'dried basil', u'iceberg lettuce', u'hamburger buns', u'2% lowfat greek yogurt', u'cooking oil', u'parsley', u'shortening', u'canned coconut milk', u'buttermilk', u'beer', u'cherries', u'fresh chives', u'grated lemon zest', u'tuna packed in water', u'egg whites', u'basil', u'chocolate spread', u'chicken sausage', u'white rice', u'grated lemon peel', u'panko', u'boneless chop pork', u'Yoplait\\xae Greek 2% caramel yogurt', u'sliced tomatoes', u'cooked long-grain brown rice', u'triscuits', u'cream cheese', u'whole chicken', u'swordfish steaks', u'fresh cilantro', u'savory', u'artichok heart marin', u'curly leaf spinach', u'sausages', u'liver', u'chili flakes', u'seasoning salt', u'light mayonnaise', u'vanilla beans', u'orange juice', u'sauce', u'fresh basil', u'whole wheat pastry flour', u'Italian parsley leaves', u'Mezzetta Sliced Greek Kalamata Olives', u'skinless chicken breasts', u'Greek black olives', u'Stonefire Tandoori Garlic Naan', u'slab bacon', u'cornish game hens', u'cooked white rice', u'granulated garlic', u'butter-flavored spray', u'broccoli florets', u'hot sauce', u'vidalia onion', u'dry bread crumbs', u'basmati rice', u'clarified butter', u'pitas', u'pearl barley', u'ground turkey breast', u'sea scallops', u'chopped pecans', u'chopped almonds', u'quinces', u'broth', u'bone in chicken thighs', u'pita bread', u'red swiss chard', u'celery ribs', u'Country Crock\\xae Spread', u'pure vanilla extract', u'shredded cheese', u'butter lettuce', u'yellow onion', u'low-fat greek yogurt', u'pocket bread', u'myzithra', u'shrimp heads', u'chestnuts', u'fresh onion', u'rice vinegar', u'whole wheat tortillas', u'bone-in chicken breast halves', u'pita bread rounds', u'raki', u'shredded mozzarella cheese', u'baking powder', u'aleppo', u'shredded lettuce', u'macaroni', u'ground cinnamon', u'chocolate chips', u'olive oil flavored cooking spray', u'small curd cottage cheese', u'chopped celery', u'phyllo', u'cream', u'sourdough bread', u'tomatoes', u'salad greens', u'chuck roast', u'oil', u'mango', u'cream sherry', u'ground black pepper', u'chunk light tuna in water', u'pomegranate', u'greek-style vinaigrette', u'beef stew meat', u'ziti', u'pork loin chops', u'passata', u'poultry seasoning', u'garlic', u'potato rolls', u'sprinkles', u'extra light olive oil', u'new potatoes', u'dark chocolate', u'ground cumin', u'rolled oats', u'baby greens', u'butter', u'egg substitute', u'spaghetti squash', u'beef sirloin', u'vinaigrette', u'sumac', u'boneless pork shoulder', u'idaho potatoes', u'beef broth', u'burgers', u'tapenade', u'sherry wine vinegar', u'veal', u'bread flour', u'Hidden Valley\\xae Original Ranch\\xae Light Dressing', u'watermelon seeds', u'fat free yogurt', u'yukon gold potatoes', u'whole milk yoghurt', u'marsala wine', u'fresh mushrooms', u'kale', u'grated nutmeg', u'puff pastry', u'panko breadcrumbs', u'boneless chicken thighs', u'margarine', u'baby back ribs', u'sage leaves', u'hothouse cucumber', u'toasted walnuts', u'unflavored gelatin', u'pure vanilla', u'ham', u'raw honey', u'coriander seeds', u'cayenne', u'shredded swiss cheese', u'frozen chopped spinach', u'pepperoncini', u'celery root', u'waxy potatoes', u'diced celery', u'coarse semolina', u'sandwich buns', u'Tabasco Pepper Sauce', u'Betty Crocker\\u2122 oatmeal cookie mix', u'ground rosemary', u'cottage cheese', u'port wine', u'chives', u'chicken broth', u'flour for dusting', u'pitted green olives', u'rigatoni', u'pork loin', u'lemon peel', u'top sirloin steak', u'ground flaxseed', u'black-eyed peas', u'plum tomatoes', u'Turkish bay leaves', u'grape tomatoes', u'zesty italian dressing', u'semolina', u'sun-dried tomatoes in oil', u'romaine lettuce', u'italian seasoning mix', u'frozen spinach', u'chopped parsley', u'2% reduced-fat milk', u'maple syrup', u'red wine vinegar', u'cider vinegar', u'fine sea salt', u'crostini', u'fines herbes', u'grated jack cheese', u'mild olive oil', u'peeled tomatoes', u'mashed potatoes', u'cutlet', u'spring onions', u'mustard powder', u'baking potatoes', u'fat free less sodium chicken broth', u'nonstick spray', u'white vermouth', u'lean minced lamb', u'luke warm water', u'ground veal', u'greek yogurt', u'anise seed', u'naan', u'breakfast sausages', u'chopped fresh herbs', u'golden beets', u'almonds', u'tuna steaks', u'candy', u'small new potatoes', u'roasted red peppers', u'pitted kalamata olives', u'cinnamon sticks', u'tomato pur\\xe9e', u'boiling potatoes', u'caesar salad dressing', u'stuffing mix', u'chop fine pecan', u'stewed tomatoes', u'red wine vinaigrette', u'okra', u'kasseri', u'greek seasoning mix', u'baking soda', u'cake', u'pimento stuffed green olives', u'ground pork', u'mint sprigs', u'chopped walnuts', u'dri leav rosemari', u'reduced-fat sour cream', u'basil dried leaves', u'pearl onions', u'nonfat plain greek yogurt', u'anchovies', u'sliced green onions', u'pepper', u'wheat', u'zest', u'half & half', u'italian seasoning', u'filo', u'fresh asparagus', u'ground allspice', u'sunflower oil', u'chopped cilantro fresh', u'black peppercorns', u'balsamic vinegar', u'ground pepper', u'fresh oregano leaves', u'prebaked pizza crusts', u'corn starch', u'parmigiano reggiano cheese', u'nonfat dry milk', u'herbs', u'rosemary', u'canola oil', u'sherry vinegar', u'shrimp', u'dijon style mustard', u'oven-ready lasagna noodles', u'diced yellow onion', u'vanilla lowfat yogurt', u'beans', u'chile pepper', u'whole milk greek yogurt', u'stevia extract', u'hot pepper rings', u'kalamata olive halves', u'vanilla bean paste', u'ground turmeric', u'flatbread', u'round loaf', u'unsalted pistachios', u'parmesan cheese', u'tenderloin', u'artichokes', u'hungarian paprika', u'phyllo dough', u'sliced kalamata olives', u'finely chopped fresh parsley', u'brown sugar', u'halibut fillets', u'lettuce leaves', u'spring roll wrappers', u'goat milk feta', u'shredded carrots', u'leeks', u'country bread', u'warm water', u'uncooked ziti', u'tahini paste', u'ginger root', u'Spike Seasoning', u'ground oregano', u'wish bone red wine vinaigrett dress', u'vegetables', u'anise', u'caviar', u'sun-dried tomatoes', u'whole wheat flour', u'all-purpose flour', u'sweet paprika', u'aleppo pepper', u'pork sirloin chops', u'chopped cilantro', u'whole allspice', u'white onion', u'flax seeds', u'chicken tenderloin', u'ground chicken breast', u'filet', u'pita pockets', u'pinenuts', u'whole grain mustard', u'prunes', u'brine-cured black olives', u'salad dressing', u'pita loaves', u'strawberries', u'pita rounds', u'coleslaw', u'fresh lime juice', u'baby spinach', u'large egg whites', u'medium-grain rice', u'red potato', u'nonfat yogurt plain', u'low sodium chicken broth', u'bamboo shoots', u'rusk', u'chili pepper flakes', u'dried red chile peppers', u'shredded sharp cheddar cheese', u'beets', u'nonfat milk', u'freshly ground pepper', u'mushroom caps', u'frozen pizza dough', u'peppermint', u'paprika', u'flour tortillas', u'string beans', u'lamb rib chops', u'French mustard', u'baking spray', u'cannellini beans', u'black olives', u'Yoplait\\xae Greek 100 blackberry pie yogurt', u'cheddar cheese', u'diced onions', u'dill', u'orange rind', u'medium eggs', u'pork tenderloin medallions', u'part-skim ricotta cheese', u'seedless cucumber', u'butternut squash', u'sunflower seeds', u'penne', u'bourbon whiskey', u'baby eggplants', u'fresh lemon juice', u'bechamel', u'garlic cloves', u'white kidney beans', u'chopped tomatoes', u'lemon', u'deveined shrimp', u'hazelnuts', u'raspberry vinegar', u'ground turkey', u'pork shoulder', u'tomato sauce', u'dressing', u'sliced turkey', u'curry powder', u'whipping cream', u'oil cured olives', u'fresh green bean', u'whipped cream', u'yellow squash', u'lime juice', u'rotisserie chicken', u'beef', u'crimini mushrooms', u'branzino', u'tuna packed in olive oil', u'minced garlic', u'peas', u'ras el hanout', u'quinoa', u'brandy', u'fresh herbs', u'capers', u'mint sauce', u'shredded cheddar cheese', u'graviera', u\"i can't believ it' not butter! made with olive oil spread\", u'radishes', u'pitted prunes', u'low-fat buttermilk', u'whole almonds', u'mustard greens', u'chopped fresh mint', u'confectioners sugar', u'spring water', u'soy sauce', u'sesame seeds', u'ground lamb', u'red mullet', u'cooking wine', u'english cucumber', u'hot water']\n"
     ]
    }
   ],
   "source": [
    "temp = list(counters[cuisines[0]])\n",
    "print np.isin('water', temp)\n",
    "print temp\n"
   ]
  },
  {
   "cell_type": "code",
   "execution_count": 105,
   "metadata": {},
   "outputs": [
    {
     "name": "stdout",
     "output_type": "stream",
     "text": [
      "[[0. 1. 0. ... 0. 1. 0.]\n",
      " [0. 0. 0. ... 0. 0. 0.]\n",
      " [0. 0. 0. ... 0. 0. 0.]\n",
      " ...\n",
      " [0. 0. 0. ... 0. 0. 0.]\n",
      " [0. 0. 0. ... 0. 1. 1.]\n",
      " [1. 1. 1. ... 1. 1. 1.]]\n",
      "8\n"
     ]
    },
    {
     "ename": "KeyError",
     "evalue": "0",
     "output_type": "error",
     "traceback": [
      "\u001b[0;31m---------------------------------------------------------------------------\u001b[0m",
      "\u001b[0;31mKeyError\u001b[0m                                  Traceback (most recent call last)",
      "\u001b[0;32m<ipython-input-105-57868700b327>\u001b[0m in \u001b[0;36m<module>\u001b[0;34m()\u001b[0m\n\u001b[1;32m     28\u001b[0m \u001b[0;34m\u001b[0m\u001b[0m\n\u001b[1;32m     29\u001b[0m \u001b[0;34m\u001b[0m\u001b[0m\n\u001b[0;32m---> 30\u001b[0;31m \u001b[0;32mprint\u001b[0m \u001b[0mclf\u001b[0m\u001b[0;34m.\u001b[0m\u001b[0mpredict\u001b[0m\u001b[0;34m(\u001b[0m\u001b[0mlist\u001b[0m\u001b[0;34m(\u001b[0m\u001b[0mcounters\u001b[0m\u001b[0;34m[\u001b[0m\u001b[0;36m0\u001b[0m\u001b[0;34m]\u001b[0m\u001b[0;34m)\u001b[0m\u001b[0;34m)\u001b[0m\u001b[0;34m\u001b[0m\u001b[0m\n\u001b[0m",
      "\u001b[0;31mKeyError\u001b[0m: 0"
     ]
    }
   ],
   "source": [
    "# ingriSet = ingriSet[0]\n",
    "temp_cuisine_value = np.zeros(len(cuisines))\n",
    "\n",
    "# ingriSet = np.asarray(ingriSet)\n",
    "\n",
    "from sklearn import tree\n",
    "\n",
    "\n",
    "\n",
    "\n",
    "for i in range(0,len(ingriSet)):\n",
    "    temp = np.zeros(len(cuisines))\n",
    "    for j in range(0,len(cuisines)):\n",
    "        temp[j] = np.isin(ingriSet[i],list(counters[cuisines[j]]))\n",
    "    temp_cuisine_value = np.vstack((temp_cuisine_value, temp))\n",
    "\n",
    "    \n",
    "temp_cuisine_value = 1*temp_cuisine_value\n",
    "temp_cuisine_value = np.delete(temp_cuisine_value, 0, 0)\n",
    "\n",
    "print temp_cuisine_value\n",
    "print np.count_nonzero(temp_cuisine_value[0])\n",
    "\n",
    "output_matrix = np.linspace(0,len(ingriSet)-1,len(ingriSet))\n",
    "\n",
    "clf = tree.DecisionTreeClassifier()\n",
    "clf = clf.fit(temp_cuisine_value,output_matrix)\n",
    "\n",
    "\n",
    "print clf.predict(list(counters[cuisines[0]]))\n"
   ]
  },
  {
   "cell_type": "code",
   "execution_count": null,
   "metadata": {},
   "outputs": [],
   "source": [
    "\n",
    "# cuisine_matrix = np.zeros(len(ingriSet))\n",
    "# for i in range (0,len(cuisines)):\n",
    "#     cuisine_matrix = np.vstack((cuisine_matrix,list(counters[cuisines[i]])))\n",
    "\n",
    "# cuisine_matrix = np.delete(cuisine_matrix,0,0)\n",
    "# cuisine_matrix = cuisine_matrix.T\n",
    "# print cuisine_matrix\n"
   ]
  }
 ],
 "metadata": {
  "kernelspec": {
   "display_name": "Python 2",
   "language": "python",
   "name": "python2"
  },
  "language_info": {
   "codemirror_mode": {
    "name": "ipython",
    "version": 2
   },
   "file_extension": ".py",
   "mimetype": "text/x-python",
   "name": "python",
   "nbconvert_exporter": "python",
   "pygments_lexer": "ipython2",
   "version": "2.7.12"
  }
 },
 "nbformat": 4,
 "nbformat_minor": 2
}
